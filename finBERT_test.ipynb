{
 "cells": [
  {
   "cell_type": "markdown",
   "metadata": {},
   "source": [
    "## 测试GPU可用性"
   ]
  },
  {
   "cell_type": "code",
   "execution_count": null,
   "metadata": {},
   "outputs": [],
   "source": [
    "import tensorrt as trt\n",
    "import tensorflow as tf\n",
    "print(tf.config.list_physical_devices('GPU'))"
   ]
  },
  {
   "cell_type": "code",
   "execution_count": null,
   "metadata": {},
   "outputs": [],
   "source": [
    "import torch\n",
    "# CUDA\n",
    "print(torch.cuda.is_available())\n",
    "# cuDNN 深度学习加速\n",
    "print(torch.backends.cudnn.enabled)\n",
    "a = torch.rand(5).to('cuda')\n",
    "a"
   ]
  },
  {
   "cell_type": "markdown",
   "metadata": {},
   "source": [
    "## 启用代理（AutoDL）"
   ]
  },
  {
   "cell_type": "code",
   "execution_count": null,
   "metadata": {},
   "outputs": [],
   "source": [
    "import subprocess\n",
    "import os\n",
    "\n",
    "result = subprocess.run('bash -c \"source ~/clash_dir/set && env | grep proxy\"', shell=True, capture_output=True, text=True)\n",
    "output = result.stdout\n",
    "output\n",
    "for line in output.splitlines():\n",
    "    if '=' in line:\n",
    "        var, value = line.split('=', 1)\n",
    "        os.environ[var] = value"
   ]
  },
  {
   "cell_type": "markdown",
   "metadata": {},
   "source": [
    "# 情感分析\n"
   ]
  },
  {
   "cell_type": "markdown",
   "metadata": {},
   "source": [
    "## 默认模型"
   ]
  },
  {
   "cell_type": "code",
   "execution_count": null,
   "metadata": {},
   "outputs": [],
   "source": [
    "import tensorrt as trt\n",
    "from transformers import pipeline\n",
    "classifier = pipeline(task=\"sentiment-analysis\")"
   ]
  },
  {
   "cell_type": "code",
   "execution_count": null,
   "metadata": {},
   "outputs": [],
   "source": [
    "title = \"Intelligent Systems wins bullish rating from BTIG on Apple Card role\""
   ]
  },
  {
   "cell_type": "code",
   "execution_count": null,
   "metadata": {},
   "outputs": [],
   "source": [
    "content = \"\"\"\n",
    "BTIG analyst Mark Palmer initiates coverage of small cap Intelligent Systems  INS  0 3   with Buy recommendation for its role in helping Goldman Sachs serve as processor for the launch of the Apple Card \n",
    " We believe INS is an overlooked small cap stock with compelling growth prospects   Palmer writes in a note \n",
    "Sees INS s growth to be slower in 2020  though still very strong  as it executes on the Apple Card project   We view its long term growth outlook as attractive and supportive of a premium multiple   he said \n",
    "Also sees Apple Card s success making it more likely that Goldman will use INS s CoreCard software for processing projects with other firms in the future \n",
    "Quant rating is Bullish\n",
    "\"\"\""
   ]
  },
  {
   "cell_type": "code",
   "execution_count": null,
   "metadata": {},
   "outputs": [],
   "source": [
    "preds = classifier(content)\n",
    "preds = [{\"score\": round(pred[\"score\"], 4), \"label\": pred[\"label\"]} for pred in preds]\n",
    "preds"
   ]
  },
  {
   "cell_type": "markdown",
   "metadata": {},
   "source": [
    "## FinBERT-tone"
   ]
  },
  {
   "cell_type": "code",
   "execution_count": null,
   "metadata": {},
   "outputs": [],
   "source": [
    "sequences = [\n",
    "    \"I've been waiting for a HuggingFace course my whole life.\", \n",
    "    \"So have I!\"\n",
    "]"
   ]
  },
  {
   "cell_type": "code",
   "execution_count": null,
   "metadata": {},
   "outputs": [],
   "source": [
    "import tensorrt as trt\n",
    "from transformers import BertTokenizer, BertForSequenceClassification\n",
    "from transformers import pipeline\n",
    "\n",
    "checkpoint = BertForSequenceClassification.from_pretrained('yiyanghkust/finbert-tone',num_labels=3)\n",
    "tokenizer = BertTokenizer.from_pretrained('yiyanghkust/finbert-tone')\n",
    "nlp = pipeline(\"sentiment-analysis\",\n",
    "               model=checkpoint,\n",
    "               tokenizer=tokenizer,\n",
    "               max_length=512,\n",
    "               truncation=True,\n",
    "               device=0)\n",
    "pl_result = nlp(sequences)\n",
    "pl_result"
   ]
  },
  {
   "cell_type": "code",
   "execution_count": null,
   "metadata": {},
   "outputs": [],
   "source": [
    "import torch\n",
    "from transformers import AutoModel,BertTokenizer,BertForSequenceClassification\n",
    "\n",
    "device = 'cuda' if torch.cuda.is_available() else 'cpu'\n",
    "print(f'Using {device} device')\n",
    "\n",
    "checkpoint = BertForSequenceClassification.from_pretrained('yiyanghkust/finbert-tone',num_labels=3).to(device)\n",
    "tokenizer = BertTokenizer.from_pretrained('yiyanghkust/finbert-tone')\n",
    "\n",
    "tokens = tokenizer(sequences, \n",
    "                   padding=True,\n",
    "                   truncation=True, \n",
    "                   max_length=512,\n",
    "                   return_tensors=\"pt\").to(device)\n",
    "# print(tokens)\n",
    "output = checkpoint(**tokens)\n",
    "logits = output.logits\n",
    "\n",
    "labels = checkpoint.config.id2label\n",
    "prob = torch.nn.functional.softmax(logits, dim=-1)\n",
    "preds = logits.argmax(dim=-1)\n",
    "probs = prob[torch.arange(logits.shape[0]), preds]\n",
    "results = [{'label': labels[pred.item()], 'score': prob.item()} for pred, prob in zip(preds, probs)]\n",
    "results"
   ]
  },
  {
   "cell_type": "markdown",
   "metadata": {},
   "source": [
    "## sample实验"
   ]
  },
  {
   "cell_type": "code",
   "execution_count": null,
   "metadata": {},
   "outputs": [],
   "source": [
    "sentences = [\"there is a shortage of capital, and we need extra financing\",  \n",
    "             \"growth is strong and we have plenty of liquidity\", \n",
    "             \"there are doubts about our finances\", \n",
    "             \"profits are flat\"]\n",
    "results = nlp(sentences)\n",
    "print(results) "
   ]
  },
  {
   "cell_type": "code",
   "execution_count": null,
   "metadata": {},
   "outputs": [],
   "source": [
    "content = \"\"\"\n",
    "BTIG analyst Mark Palmer initiates coverage of small cap Intelligent Systems  INS  0 3   with Buy recommendation for its role in helping Goldman Sachs serve as processor for the launch of the Apple Card \n",
    " We believe INS is an overlooked small cap stock with compelling growth prospects   Palmer writes in a note \n",
    "Sees INS s growth to be slower in 2020  th|ough still very strong  as it executes on the Apple Card project   We view its long term growth outlook as attractive and supportive of a premium multiple   he said \n",
    "Also sees Apple Card s success making it more likely that Goldman will use INS s CoreCard software for processing projects with other firms in the future \n",
    "Quant rating is Bullish\n",
    "\"\"\"\n",
    "results = nlp(content)\n",
    "results"
   ]
  },
  {
   "cell_type": "code",
   "execution_count": null,
   "metadata": {},
   "outputs": [],
   "source": [
    "header = \"\"\"\n",
    "Apple Buys Another Artificial Intelligence Start Up\n",
    "\"\"\"\n",
    "\n",
    "content = \"\"\"\n",
    "It s been about a month since the last Apple  NASDAQ AAPL  acquisition that investors have caught wind of  Spectral Edge  to bolster the company s computational photography   CEO Tim Cook confirmed last year that the tech titan tends to buy smaller companies every two to three weeks  Apple s latest acquisition is all about low power edge based artificial intelligence  AI  \n",
    "Here s what investors need to know \n",
    "\n",
    "Doing things locally\n",
    "GeekWire reports that Apple has scooped up Xnor ai  a Seattle based start up that specializes in on device AI  Xnor ai was previously spun out of Microsoft co founder Paul Allen s AI incubator  the Allen Institute for AI  AI2   back in 2017  The company provides tools through a self service platform that allow other developers to incorporate AI into their apps \n",
    "Apple paid an estimated  200 million for Xnor ai  according to the report  Apple had previously acquired another Seattle based AI start up  Turi  back in 2016  also for around  200 million \n",
    "\n",
    "Xnor ai s main differentiator is that its technology keeps all of the AI processing on the local device as opposed to relying on data centers in the cloud  Apple prefers to store as much data locally as possible in order to improve privacy protections \n",
    "Apple s A series of chips include a neural engine that handles most of the machine learning and AI locally on iPhones  with the latest A13 Bionic chip boasting significant machine learning performance improvements thanks to its eight core neural engine  Sensitive biometric data used for Face ID or Touch ID is also stored locally in what Apple calls a Secure Enclave \n",
    "At the same time  low power computing is critical to improving battery life  The start up showed off an AI chip last year that used so little energy  it could run off solar power \n",
    "In recent years  Apple has been aggressively expanding in Seattle  The company said last summer that the Emerald City would  become a key engineering hub  that would employ 2 000 workers within the next few years  The Mac maker s office is right around the corner from Amazon s headquarters  and Apple is undoubtedly poaching talent from its rival \n",
    "Sorry  Wyze\n",
    "Xnor ai s tech was incorporated into Wyze s smart home security cameras last summer  enabling people detection on the affordable    the entry level Wyze Cam V2 costs just  20    devices that was all processed locally  Just a few months after that feature was added  Wyze said in November that the people detection capability would be removed in January 2020 after Xnor ai terminated its contract \n",
    "Wyze is internally developing a comparable feature  although it may use the cloud instead of on device processing  The timing of all of that probably isn t a coincidence  It s entirely possible that Apple bought Xnor ai a couple months ago and investors are just now finding out\n",
    "\"\"\""
   ]
  },
  {
   "cell_type": "code",
   "execution_count": null,
   "metadata": {},
   "outputs": [],
   "source": [
    "result = nlp(header)\n",
    "result"
   ]
  },
  {
   "cell_type": "code",
   "execution_count": null,
   "metadata": {},
   "outputs": [],
   "source": [
    "def sliding_window(tokenizer, text, max_len, stride):\n",
    "    \"\"\"将文本分割成指定大小的窗口，每个窗口有一定的重叠部分\"\"\"\n",
    "    tokens = tokenizer.tokenize(text)\n",
    "    token_windows = []\n",
    "    for i in range(0, len(tokens), stride):\n",
    "        window = tokens[i:i+max_len]\n",
    "        if len(window) > max_len:\n",
    "            window = window[:max_len]\n",
    "        token_windows.append(window)\n",
    "    return token_windows\n",
    "\n",
    "# 将内容分割成不超过512个令牌的窗口，每个窗口有128个令牌的重叠部分\n",
    "windows = sliding_window(tokenizer, content, 510, 384)\n",
    "\n",
    "# 对每个窗口进行预测\n",
    "results = []\n",
    "for window in windows:\n",
    "    window_text = tokenizer.decode(tokenizer.convert_tokens_to_ids(window))\n",
    "    result = nlp(window_text)\n",
    "    results.append(result)"
   ]
  },
  {
   "cell_type": "code",
   "execution_count": null,
   "metadata": {},
   "outputs": [],
   "source": [
    "results"
   ]
  },
  {
   "cell_type": "code",
   "execution_count": null,
   "metadata": {},
   "outputs": [],
   "source": [
    "for window in windows:\n",
    "    print(len(window))"
   ]
  },
  {
   "cell_type": "code",
   "execution_count": null,
   "metadata": {},
   "outputs": [],
   "source": [
    "result = nlp(content)\n",
    "result"
   ]
  }
 ],
 "metadata": {
  "kernelspec": {
   "display_name": "base",
   "language": "python",
   "name": "python3"
  },
  "language_info": {
   "codemirror_mode": {
    "name": "ipython",
    "version": 3
   },
   "file_extension": ".py",
   "mimetype": "text/x-python",
   "name": "python",
   "nbconvert_exporter": "python",
   "pygments_lexer": "ipython3",
   "version": "3.10.8"
  }
 },
 "nbformat": 4,
 "nbformat_minor": 2
}
