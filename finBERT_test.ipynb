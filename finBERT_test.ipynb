{
 "cells": [
  {
   "cell_type": "markdown",
   "metadata": {},
   "source": [
    "## 测试GPU可用性"
   ]
  },
  {
   "cell_type": "code",
   "execution_count": null,
   "metadata": {},
   "outputs": [],
   "source": [
    "import tensorrt as trt\n",
    "import tensorflow as tf\n",
    "print(tf.config.list_physical_devices('GPU'))"
   ]
  },
  {
   "cell_type": "code",
   "execution_count": null,
   "metadata": {},
   "outputs": [],
   "source": [
    "import torch\n",
    "# CUDA\n",
    "print(torch.cuda.is_available())\n",
    "# cuDNN 深度学习加速\n",
    "print(torch.backends.cudnn.enabled)\n",
    "a = torch.rand(5).to('cuda')\n",
    "a"
   ]
  },
  {
   "cell_type": "markdown",
   "metadata": {},
   "source": [
    "## 启用代理（AutoDL）"
   ]
  },
  {
   "cell_type": "code",
   "execution_count": null,
   "metadata": {},
   "outputs": [],
   "source": [
    "import subprocess\n",
    "import os\n",
    "\n",
    "result = subprocess.run('bash -c \"source ~/clash_dir/set && env | grep proxy\"', shell=True, capture_output=True, text=True)\n",
    "output = result.stdout\n",
    "output\n",
    "for line in output.splitlines():\n",
    "    if '=' in line:\n",
    "        var, value = line.split('=', 1)\n",
    "        os.environ[var] = value"
   ]
  },
  {
   "cell_type": "markdown",
   "metadata": {},
   "source": [
    "# 情感分析\n"
   ]
  },
  {
   "cell_type": "markdown",
   "metadata": {},
   "source": [
    "## 默认模型"
   ]
  },
  {
   "cell_type": "code",
   "execution_count": null,
   "metadata": {},
   "outputs": [],
   "source": [
    "import tensorrt as trt\n",
    "from transformers import pipeline\n",
    "classifier = pipeline(task=\"sentiment-analysis\")"
   ]
  },
  {
   "cell_type": "code",
   "execution_count": null,
   "metadata": {},
   "outputs": [],
   "source": [
    "title = \"Intelligent Systems wins bullish rating from BTIG on Apple Card role\""
   ]
  },
  {
   "cell_type": "code",
   "execution_count": null,
   "metadata": {},
   "outputs": [],
   "source": [
    "content = \"\"\"\n",
    "BTIG analyst Mark Palmer initiates coverage of small cap Intelligent Systems  INS  0 3   with Buy recommendation for its role in helping Goldman Sachs serve as processor for the launch of the Apple Card \n",
    " We believe INS is an overlooked small cap stock with compelling growth prospects   Palmer writes in a note \n",
    "Sees INS s growth to be slower in 2020  though still very strong  as it executes on the Apple Card project   We view its long term growth outlook as attractive and supportive of a premium multiple   he said \n",
    "Also sees Apple Card s success making it more likely that Goldman will use INS s CoreCard software for processing projects with other firms in the future \n",
    "Quant rating is Bullish\n",
    "\"\"\""
   ]
  },
  {
   "cell_type": "code",
   "execution_count": null,
   "metadata": {},
   "outputs": [],
   "source": [
    "preds = classifier(content)\n",
    "preds = [{\"score\": round(pred[\"score\"], 4), \"label\": pred[\"label\"]} for pred in preds]\n",
    "preds"
   ]
  },
  {
   "cell_type": "markdown",
   "metadata": {},
   "source": [
    "## FinBERT-tone"
   ]
  },
  {
   "cell_type": "code",
   "execution_count": null,
   "metadata": {},
   "outputs": [],
   "source": [
    "sequences = [\n",
    "    \"I've been waiting for a HuggingFace course my whole life.\", \n",
    "    \"So have I!\"\n",
    "]"
   ]
  },
  {
   "cell_type": "code",
   "execution_count": null,
   "metadata": {},
   "outputs": [],
   "source": [
    "import tensorrt as trt\n",
    "from transformers import BertTokenizer, BertForSequenceClassification\n",
    "from transformers import pipeline\n",
    "\n",
    "checkpoint = BertForSequenceClassification.from_pretrained('yiyanghkust/finbert-tone',num_labels=3)\n",
    "tokenizer = BertTokenizer.from_pretrained('yiyanghkust/finbert-tone')\n",
    "nlp = pipeline(\"sentiment-analysis\",\n",
    "               model=checkpoint,\n",
    "               tokenizer=tokenizer,\n",
    "            #    max_length=512,\n",
    "            #    truncation=True,\n",
    "               device=0)\n",
    "pl_result = nlp(sequences)\n",
    "pl_result"
   ]
  },
  {
   "cell_type": "markdown",
   "metadata": {},
   "source": []
  },
  {
   "cell_type": "code",
   "execution_count": null,
   "metadata": {},
   "outputs": [],
   "source": [
    "import torch\n",
    "from transformers import AutoModel,BertTokenizer,BertForSequenceClassification\n",
    "\n",
    "device = 'cuda' if torch.cuda.is_available() else 'cpu'\n",
    "print(f'Using {device} device')\n",
    "\n",
    "checkpoint = BertForSequenceClassification.from_pretrained('yiyanghkust/finbert-tone',num_labels=3).to(device)\n",
    "tokenizer = BertTokenizer.from_pretrained('yiyanghkust/finbert-tone')\n",
    "\n",
    "tokens = tokenizer(sequences, \n",
    "                   padding=True,\n",
    "                   truncation=True, \n",
    "                   max_length=512,\n",
    "                   return_tensors=\"pt\").to(device)\n",
    "# print(tokens)\n",
    "output = checkpoint(**tokens)\n",
    "logits = output.logits\n",
    "\n",
    "labels = checkpoint.config.id2label\n",
    "prob = torch.nn.functional.softmax(logits, dim=-1)\n",
    "preds = logits.argmax(dim=-1)\n",
    "probs = prob[torch.arange(logits.shape[0]), preds]\n",
    "results = [{'label': labels[pred.item()], 'score': prob.item()} for pred, prob in zip(preds, probs)]\n",
    "results"
   ]
  },
  {
   "cell_type": "markdown",
   "metadata": {},
   "source": [
    "## sample实验"
   ]
  },
  {
   "cell_type": "code",
   "execution_count": null,
   "metadata": {},
   "outputs": [],
   "source": [
    "sentences = [\"there is a shortage of capital, and we need extra financing\",  \n",
    "             \"growth is strong and we have plenty of liquidity\", \n",
    "             \"there are doubts about our finances\", \n",
    "             \"profits are flat\"]\n",
    "results = nlp(sentences)\n",
    "print(results) "
   ]
  },
  {
   "cell_type": "code",
   "execution_count": null,
   "metadata": {},
   "outputs": [],
   "source": [
    "content = \"\"\"\n",
    "BTIG analyst Mark Palmer initiates coverage of small cap Intelligent Systems  INS  0 3   with Buy recommendation for its role in helping Goldman Sachs serve as processor for the launch of the Apple Card \n",
    " We believe INS is an overlooked small cap stock with compelling growth prospects   Palmer writes in a note \n",
    "Sees INS s growth to be slower in 2020  th|ough still very strong  as it executes on the Apple Card project   We view its long term growth outlook as attractive and supportive of a premium multiple   he said \n",
    "Also sees Apple Card s success making it more likely that Goldman will use INS s CoreCard software for processing projects with other firms in the future \n",
    "Quant rating is Bullish\n",
    "\"\"\"\n",
    "results = nlp(content)\n",
    "results"
   ]
  },
  {
   "cell_type": "code",
   "execution_count": null,
   "metadata": {},
   "outputs": [],
   "source": [
    "header = \"\"\"\n",
    "Apple Buys Another Artificial Intelligence Start Up\n",
    "\"\"\"\n",
    "\n",
    "content = \"\"\"\n",
    "It s been about a month since the last Apple  NASDAQ AAPL  acquisition that investors have caught wind of  Spectral Edge  to bolster the company s computational photography   CEO Tim Cook confirmed last year that the tech titan tends to buy smaller companies every two to three weeks  Apple s latest acquisition is all about low power edge based artificial intelligence  AI  \n",
    "Here s what investors need to know \n",
    "\n",
    "Doing things locally\n",
    "GeekWire reports that Apple has scooped up Xnor ai  a Seattle based start up that specializes in on device AI  Xnor ai was previously spun out of Microsoft co founder Paul Allen s AI incubator  the Allen Institute for AI  AI2   back in 2017  The company provides tools through a self service platform that allow other developers to incorporate AI into their apps \n",
    "Apple paid an estimated  200 million for Xnor ai  according to the report  Apple had previously acquired another Seattle based AI start up  Turi  back in 2016  also for around  200 million \n",
    "\n",
    "Xnor ai s main differentiator is that its technology keeps all of the AI processing on the local device as opposed to relying on data centers in the cloud  Apple prefers to store as much data locally as possible in order to improve privacy protections \n",
    "Apple s A series of chips include a neural engine that handles most of the machine learning and AI locally on iPhones  with the latest A13 Bionic chip boasting significant machine learning performance improvements thanks to its eight core neural engine  Sensitive biometric data used for Face ID or Touch ID is also stored locally in what Apple calls a Secure Enclave \n",
    "At the same time  low power computing is critical to improving battery life  The start up showed off an AI chip last year that used so little energy  it could run off solar power \n",
    "In recent years  Apple has been aggressively expanding in Seattle  The company said last summer that the Emerald City would  become a key engineering hub  that would employ 2 000 workers within the next few years  The Mac maker s office is right around the corner from Amazon s headquarters  and Apple is undoubtedly poaching talent from its rival \n",
    "Sorry  Wyze\n",
    "Xnor ai s tech was incorporated into Wyze s smart home security cameras last summer  enabling people detection on the affordable    the entry level Wyze Cam V2 costs just  20    devices that was all processed locally  Just a few months after that feature was added  Wyze said in November that the people detection capability would be removed in January 2020 after Xnor ai terminated its contract \n",
    "Wyze is internally developing a comparable feature  although it may use the cloud instead of on device processing  The timing of all of that probably isn t a coincidence  It s entirely possible that Apple bought Xnor ai a couple months ago and investors are just now finding out\n",
    "\"\"\""
   ]
  },
  {
   "cell_type": "code",
   "execution_count": null,
   "metadata": {},
   "outputs": [],
   "source": [
    "result = nlp(content)\n",
    "result"
   ]
  },
  {
   "cell_type": "code",
   "execution_count": null,
   "metadata": {},
   "outputs": [],
   "source": [
    "def sliding_window(tokenizer, text, max_len, stride):\n",
    "    \"\"\"将文本分割成指定大小的窗口，每个窗口有一定的重叠部分\"\"\"\n",
    "    tokens = tokenizer.tokenize(text)\n",
    "    token_windows = []\n",
    "    for i in range(0, len(tokens), stride):\n",
    "        window = tokens[i:i+max_len]\n",
    "        if len(window) > max_len:\n",
    "            window = window[:max_len]\n",
    "        token_windows.append(window)\n",
    "    return token_windows\n",
    "\n",
    "# 将内容分割成不超过512个令牌的窗口，每个窗口有128个令牌的重叠部分\n",
    "windows = sliding_window(tokenizer, content, 510, 384)\n",
    "\n",
    "# 对每个窗口进行预测\n",
    "results = []\n",
    "for window in windows:\n",
    "    window_text = tokenizer.decode(tokenizer.convert_tokens_to_ids(window))\n",
    "    result = nlp(window_text)\n",
    "    results.append(result)"
   ]
  },
  {
   "cell_type": "code",
   "execution_count": null,
   "metadata": {},
   "outputs": [],
   "source": [
    "results"
   ]
  },
  {
   "cell_type": "code",
   "execution_count": null,
   "metadata": {},
   "outputs": [],
   "source": [
    "for window in windows:\n",
    "    print(len(window))"
   ]
  },
  {
   "cell_type": "code",
   "execution_count": null,
   "metadata": {},
   "outputs": [],
   "source": [
    "result = nlp(content)\n",
    "result"
   ]
  },
  {
   "cell_type": "markdown",
   "metadata": {},
   "source": [
    "## Long FinBERT"
   ]
  },
  {
   "cell_type": "code",
   "execution_count": 8,
   "metadata": {},
   "outputs": [
    {
     "data": {
      "application/vnd.jupyter.widget-view+json": {
       "model_id": "d5e71e1dd1a24866af526f5bd3aaf3d9",
       "version_major": 2,
       "version_minor": 0
      },
      "text/plain": [
       "pytorch_model_v2.bin:   0%|          | 0.00/426M [00:00<?, ?B/s]"
      ]
     },
     "metadata": {},
     "output_type": "display_data"
    }
   ],
   "source": [
    "import sys\n",
    "sys.path.append('./model/LongFinBERT-base')\n",
    "\n",
    "from model import LongBERTModel\n",
    "from custom_config import LongBERTConfig\n",
    "from tokenizer import LongBERTTokenizer\n",
    "\n",
    "\n",
    "backbone = 'minhtriphan/LongFinBERT-base'\n",
    "tokenizer = LongBERTTokenizer.from_pretrained(backbone)\n",
    "# prepare to use default configuration\n",
    "config = LongBERTConfig.from_pretrained(backbone)\n",
    "config._commit_hash = 'balabala'\n",
    "# choose v1 or v2 pre-trained args\n",
    "model = LongBERTModel.from_pretrained(backbone, version = 'v2')\n",
    "\n",
    "# model.config = config"
   ]
  },
  {
   "cell_type": "code",
   "execution_count": 21,
   "metadata": {},
   "outputs": [
    {
     "name": "stdout",
     "output_type": "stream",
     "text": [
      "Using cuda device\n"
     ]
    },
    {
     "ename": "OSError",
     "evalue": "minhtriphan/LongFinBERT-base does not appear to have a file named pytorch_model.bin, tf_model.h5, model.ckpt or flax_model.msgpack.",
     "output_type": "error",
     "traceback": [
      "\u001b[0;31m---------------------------------------------------------------------------\u001b[0m",
      "\u001b[0;31mOSError\u001b[0m                                   Traceback (most recent call last)",
      "\u001b[1;32m/root/Workspace/Playground/finBERT_test.ipynb Cell 28\u001b[0m line \u001b[0;36m2\n\u001b[1;32m     <a href='vscode-notebook-cell://ssh-remote%2Bregion-3.seetacloud.com/root/Workspace/Playground/finBERT_test.ipynb#X54sdnNjb2RlLXJlbW90ZQ%3D%3D?line=14'>15</a>\u001b[0m backbone \u001b[39m=\u001b[39m \u001b[39m'\u001b[39m\u001b[39mminhtriphan/LongFinBERT-base\u001b[39m\u001b[39m'\u001b[39m\n\u001b[1;32m     <a href='vscode-notebook-cell://ssh-remote%2Bregion-3.seetacloud.com/root/Workspace/Playground/finBERT_test.ipynb#X54sdnNjb2RlLXJlbW90ZQ%3D%3D?line=15'>16</a>\u001b[0m \u001b[39m# model = LongBERTModel.from_pretrained(backbone, version = 'v2')\u001b[39;00m\n\u001b[1;32m     <a href='vscode-notebook-cell://ssh-remote%2Bregion-3.seetacloud.com/root/Workspace/Playground/finBERT_test.ipynb#X54sdnNjb2RlLXJlbW90ZQ%3D%3D?line=16'>17</a>\u001b[0m \u001b[39m# path_to_long_finbert = '/root/.cache/huggingface/hub/models--minhtriphan--LongFinBERT-base/blobs/6059d951ecdbd24069329d685cace5ee16bdc6038327857d5616f69f48fba604'\u001b[39;00m\n\u001b[1;32m     <a href='vscode-notebook-cell://ssh-remote%2Bregion-3.seetacloud.com/root/Workspace/Playground/finBERT_test.ipynb#X54sdnNjb2RlLXJlbW90ZQ%3D%3D?line=17'>18</a>\u001b[0m \u001b[39m# model_state_dict = torch.load(path_to_long_finbert, map_location=torch.device('cuda:0'))\u001b[39;00m\n\u001b[0;32m   (...)\u001b[0m\n\u001b[1;32m     <a href='vscode-notebook-cell://ssh-remote%2Bregion-3.seetacloud.com/root/Workspace/Playground/finBERT_test.ipynb#X54sdnNjb2RlLXJlbW90ZQ%3D%3D?line=20'>21</a>\u001b[0m \u001b[39m# path_to_long_finbert_bin = './model/pytorch_model_v2.bin'\u001b[39;00m\n\u001b[1;32m     <a href='vscode-notebook-cell://ssh-remote%2Bregion-3.seetacloud.com/root/Workspace/Playground/finBERT_test.ipynb#X54sdnNjb2RlLXJlbW90ZQ%3D%3D?line=21'>22</a>\u001b[0m \u001b[39m# model = BertForSequenceClassification.from_pretrained(backbone, state_dict=model_state_dict)\u001b[39;00m\n\u001b[0;32m---> <a href='vscode-notebook-cell://ssh-remote%2Bregion-3.seetacloud.com/root/Workspace/Playground/finBERT_test.ipynb#X54sdnNjb2RlLXJlbW90ZQ%3D%3D?line=22'>23</a>\u001b[0m model \u001b[39m=\u001b[39m BertForSequenceClassification\u001b[39m.\u001b[39;49mfrom_pretrained(backbone)\u001b[39m.\u001b[39mto(device)\n\u001b[1;32m     <a href='vscode-notebook-cell://ssh-remote%2Bregion-3.seetacloud.com/root/Workspace/Playground/finBERT_test.ipynb#X54sdnNjb2RlLXJlbW90ZQ%3D%3D?line=24'>25</a>\u001b[0m tokenizer \u001b[39m=\u001b[39m LongBERTTokenizer\u001b[39m.\u001b[39mfrom_pretrained(backbone)\n\u001b[1;32m     <a href='vscode-notebook-cell://ssh-remote%2Bregion-3.seetacloud.com/root/Workspace/Playground/finBERT_test.ipynb#X54sdnNjb2RlLXJlbW90ZQ%3D%3D?line=25'>26</a>\u001b[0m \u001b[39m# tokenizer = BertTokenizer.from_pretrained(backbone)\u001b[39;00m\n\u001b[1;32m     <a href='vscode-notebook-cell://ssh-remote%2Bregion-3.seetacloud.com/root/Workspace/Playground/finBERT_test.ipynb#X54sdnNjb2RlLXJlbW90ZQ%3D%3D?line=26'>27</a>\u001b[0m \u001b[39m# load config?\u001b[39;00m\n",
      "File \u001b[0;32m~/miniconda3/lib/python3.10/site-packages/transformers/modeling_utils.py:3098\u001b[0m, in \u001b[0;36mPreTrainedModel.from_pretrained\u001b[0;34m(cls, pretrained_model_name_or_path, config, cache_dir, ignore_mismatched_sizes, force_download, local_files_only, token, revision, use_safetensors, *model_args, **kwargs)\u001b[0m\n\u001b[1;32m   3092\u001b[0m             \u001b[39mraise\u001b[39;00m \u001b[39mEnvironmentError\u001b[39;00m(\n\u001b[1;32m   3093\u001b[0m                 \u001b[39mf\u001b[39m\u001b[39m\"\u001b[39m\u001b[39m{\u001b[39;00mpretrained_model_name_or_path\u001b[39m}\u001b[39;00m\u001b[39m does not appear to have a file named\u001b[39m\u001b[39m\"\u001b[39m\n\u001b[1;32m   3094\u001b[0m                 \u001b[39mf\u001b[39m\u001b[39m\"\u001b[39m\u001b[39m \u001b[39m\u001b[39m{\u001b[39;00m_add_variant(WEIGHTS_NAME,\u001b[39m \u001b[39mvariant)\u001b[39m}\u001b[39;00m\u001b[39m but there is a file without the variant\u001b[39m\u001b[39m\"\u001b[39m\n\u001b[1;32m   3095\u001b[0m                 \u001b[39mf\u001b[39m\u001b[39m\"\u001b[39m\u001b[39m \u001b[39m\u001b[39m{\u001b[39;00mvariant\u001b[39m}\u001b[39;00m\u001b[39m. Use `variant=None` to load this model from those weights.\u001b[39m\u001b[39m\"\u001b[39m\n\u001b[1;32m   3096\u001b[0m             )\n\u001b[1;32m   3097\u001b[0m         \u001b[39melse\u001b[39;00m:\n\u001b[0;32m-> 3098\u001b[0m             \u001b[39mraise\u001b[39;00m \u001b[39mEnvironmentError\u001b[39;00m(\n\u001b[1;32m   3099\u001b[0m                 \u001b[39mf\u001b[39m\u001b[39m\"\u001b[39m\u001b[39m{\u001b[39;00mpretrained_model_name_or_path\u001b[39m}\u001b[39;00m\u001b[39m does not appear to have a file named\u001b[39m\u001b[39m\"\u001b[39m\n\u001b[1;32m   3100\u001b[0m                 \u001b[39mf\u001b[39m\u001b[39m\"\u001b[39m\u001b[39m \u001b[39m\u001b[39m{\u001b[39;00m_add_variant(WEIGHTS_NAME,\u001b[39m \u001b[39mvariant)\u001b[39m}\u001b[39;00m\u001b[39m, \u001b[39m\u001b[39m{\u001b[39;00mTF2_WEIGHTS_NAME\u001b[39m}\u001b[39;00m\u001b[39m, \u001b[39m\u001b[39m{\u001b[39;00mTF_WEIGHTS_NAME\u001b[39m}\u001b[39;00m\u001b[39m or\u001b[39m\u001b[39m\"\u001b[39m\n\u001b[1;32m   3101\u001b[0m                 \u001b[39mf\u001b[39m\u001b[39m\"\u001b[39m\u001b[39m \u001b[39m\u001b[39m{\u001b[39;00mFLAX_WEIGHTS_NAME\u001b[39m}\u001b[39;00m\u001b[39m.\u001b[39m\u001b[39m\"\u001b[39m\n\u001b[1;32m   3102\u001b[0m             )\n\u001b[1;32m   3103\u001b[0m \u001b[39mexcept\u001b[39;00m \u001b[39mEnvironmentError\u001b[39;00m:\n\u001b[1;32m   3104\u001b[0m     \u001b[39m# Raise any environment error raise by `cached_file`. It will have a helpful error message adapted\u001b[39;00m\n\u001b[1;32m   3105\u001b[0m     \u001b[39m# to the original exception.\u001b[39;00m\n\u001b[1;32m   3106\u001b[0m     \u001b[39mraise\u001b[39;00m\n",
      "\u001b[0;31mOSError\u001b[0m: minhtriphan/LongFinBERT-base does not appear to have a file named pytorch_model.bin, tf_model.h5, model.ckpt or flax_model.msgpack."
     ]
    }
   ],
   "source": [
    "import sys\n",
    "sys.path.append('./model/LongFinBERT-base')\n",
    "\n",
    "from model import LongBERTModel\n",
    "from custom_config import LongBERTConfig\n",
    "from tokenizer import LongBERTTokenizer\n",
    "import tensorrt as trt\n",
    "from transformers import BertTokenizer, BertForSequenceClassification\n",
    "from transformers import pipeline\n",
    "\n",
    "device = 'cuda' if torch.cuda.is_available() else 'cpu'\n",
    "print(f'Using {device} device')\n",
    "\n",
    "\n",
    "backbone = 'minhtriphan/LongFinBERT-base'\n",
    "# model = LongBERTModel.from_pretrained(backbone, version = 'v2')\n",
    "# path_to_long_finbert = '/root/.cache/huggingface/hub/models--minhtriphan--LongFinBERT-base/blobs/6059d951ecdbd24069329d685cace5ee16bdc6038327857d5616f69f48fba604'\n",
    "# model_state_dict = torch.load(path_to_long_finbert, map_location=torch.device('cuda:0'))\n",
    "\n",
    "# checkpoint = BertForSequenceClassification.from_pretrained('yiyanghkust/finbert-tone',num_labels=3).to(device)\n",
    "# path_to_long_finbert_bin = './model/pytorch_model_v2.bin'\n",
    "# model = BertForSequenceClassification.from_pretrained(backbone, state_dict=model_state_dict)\n",
    "model = BertForSequenceClassification.from_pretrained(backbone).to(device)\n",
    "\n",
    "tokenizer = LongBERTTokenizer.from_pretrained(backbone)\n",
    "# tokenizer = BertTokenizer.from_pretrained(backbone)\n",
    "# load config?\n",
    "config = LongBERTConfig.from_pretrained(backbone)\n",
    "checkpoint.config = config\n",
    "\n",
    "nlp = pipeline(\"sentiment-analysis\",\n",
    "               model=checkpoint,\n",
    "               tokenizer=tokenizer,\n",
    "               device=0)"
   ]
  },
  {
   "cell_type": "code",
   "execution_count": 19,
   "metadata": {},
   "outputs": [
    {
     "name": "stdout",
     "output_type": "stream",
     "text": [
      "odict_keys(['embeddings.word_embeddings.weight', 'embeddings.position_embeddings.weight', 'embeddings.token_type_embeddings.weight', 'embeddings.LayerNorm.weight', 'embeddings.LayerNorm.bias', 'encoder.layer.0.attention.q_proj.weight', 'encoder.layer.0.attention.k_proj.weight', 'encoder.layer.0.attention.v_proj.weight', 'encoder.layer.0.output.0.weight', 'encoder.layer.0.output.0.bias', 'encoder.layer.0.output.1.weight', 'encoder.layer.0.output.1.bias', 'encoder.layer.1.attention.q_proj.weight', 'encoder.layer.1.attention.k_proj.weight', 'encoder.layer.1.attention.v_proj.weight', 'encoder.layer.1.output.0.weight', 'encoder.layer.1.output.0.bias', 'encoder.layer.1.output.1.weight', 'encoder.layer.1.output.1.bias', 'encoder.layer.2.attention.q_proj.weight', 'encoder.layer.2.attention.k_proj.weight', 'encoder.layer.2.attention.v_proj.weight', 'encoder.layer.2.output.0.weight', 'encoder.layer.2.output.0.bias', 'encoder.layer.2.output.1.weight', 'encoder.layer.2.output.1.bias', 'encoder.layer.3.attention.q_proj.weight', 'encoder.layer.3.attention.k_proj.weight', 'encoder.layer.3.attention.v_proj.weight', 'encoder.layer.3.output.0.weight', 'encoder.layer.3.output.0.bias', 'encoder.layer.3.output.1.weight', 'encoder.layer.3.output.1.bias', 'encoder.layer.4.attention.q_proj.weight', 'encoder.layer.4.attention.k_proj.weight', 'encoder.layer.4.attention.v_proj.weight', 'encoder.layer.4.output.0.weight', 'encoder.layer.4.output.0.bias', 'encoder.layer.4.output.1.weight', 'encoder.layer.4.output.1.bias', 'encoder.layer.5.attention.q_proj.weight', 'encoder.layer.5.attention.k_proj.weight', 'encoder.layer.5.attention.v_proj.weight', 'encoder.layer.5.output.0.weight', 'encoder.layer.5.output.0.bias', 'encoder.layer.5.output.1.weight', 'encoder.layer.5.output.1.bias', 'encoder.layer.6.attention.q_proj.weight', 'encoder.layer.6.attention.k_proj.weight', 'encoder.layer.6.attention.v_proj.weight', 'encoder.layer.6.output.0.weight', 'encoder.layer.6.output.0.bias', 'encoder.layer.6.output.1.weight', 'encoder.layer.6.output.1.bias', 'encoder.layer.7.attention.q_proj.weight', 'encoder.layer.7.attention.k_proj.weight', 'encoder.layer.7.attention.v_proj.weight', 'encoder.layer.7.output.0.weight', 'encoder.layer.7.output.0.bias', 'encoder.layer.7.output.1.weight', 'encoder.layer.7.output.1.bias', 'encoder.layer.8.attention.q_proj.weight', 'encoder.layer.8.attention.k_proj.weight', 'encoder.layer.8.attention.v_proj.weight', 'encoder.layer.8.output.0.weight', 'encoder.layer.8.output.0.bias', 'encoder.layer.8.output.1.weight', 'encoder.layer.8.output.1.bias', 'encoder.layer.9.attention.q_proj.weight', 'encoder.layer.9.attention.k_proj.weight', 'encoder.layer.9.attention.v_proj.weight', 'encoder.layer.9.output.0.weight', 'encoder.layer.9.output.0.bias', 'encoder.layer.9.output.1.weight', 'encoder.layer.9.output.1.bias', 'encoder.layer.10.attention.q_proj.weight', 'encoder.layer.10.attention.k_proj.weight', 'encoder.layer.10.attention.v_proj.weight', 'encoder.layer.10.output.0.weight', 'encoder.layer.10.output.0.bias', 'encoder.layer.10.output.1.weight', 'encoder.layer.10.output.1.bias', 'encoder.layer.11.attention.q_proj.weight', 'encoder.layer.11.attention.k_proj.weight', 'encoder.layer.11.attention.v_proj.weight', 'encoder.layer.11.output.0.weight', 'encoder.layer.11.output.0.bias', 'encoder.layer.11.output.1.weight', 'encoder.layer.11.output.1.bias', 'encoder.pooler.dense.weight', 'encoder.pooler.dense.bias'])\n"
     ]
    }
   ],
   "source": [
    "import torch\n",
    "\n",
    "# Replace this with the path to your file\n",
    "model_file = '/root/.cache/huggingface/hub/models--minhtriphan--LongFinBERT-base/blobs/6059d951ecdbd24069329d685cace5ee16bdc6038327857d5616f69f48fba604'\n",
    "\n",
    "# Load the model\n",
    "model_state_dict = torch.load(model_file, map_location=torch.device('cuda:0'))\n",
    "\n",
    "# Print the keys of the state dict\n",
    "print(model_state_dict.keys())"
   ]
  },
  {
   "cell_type": "code",
   "execution_count": 9,
   "metadata": {},
   "outputs": [
    {
     "data": {
      "text/plain": [
       "LongBERTOutput: {'pooled_output': tensor([[-7.4002e-01,  5.5804e-01,  2.7216e-01,  9.4661e-01, -1.6695e-01,\n",
       "          8.9166e-01,  9.0911e-01,  4.9755e-01, -3.3132e-02, -5.7888e-01,\n",
       "          4.5203e-01,  3.1585e-01, -3.5884e-01, -9.5516e-01, -2.1456e-01,\n",
       "         -3.5852e-01,  6.7983e-01,  5.1463e-01, -4.8898e-02,  2.2030e-01,\n",
       "         -1.7506e-01,  7.0262e-02,  6.5076e-01,  4.2366e-01, -5.6976e-01,\n",
       "         -5.9026e-01,  8.7871e-01,  5.9742e-01, -6.1552e-01, -9.4400e-01,\n",
       "          1.1891e-01, -2.9541e-01,  3.0269e-01,  6.7660e-01,  1.1000e-01,\n",
       "         -6.8860e-01,  5.0649e-01, -2.4589e-01,  9.1133e-01, -4.4746e-01,\n",
       "         -3.4953e-01,  8.2994e-01,  7.3678e-01,  5.2759e-01, -6.7537e-01,\n",
       "          7.1570e-01,  8.1855e-01,  2.3456e-01, -3.4047e-02,  1.1216e-01,\n",
       "         -9.1025e-01, -4.9915e-01,  2.7209e-01,  2.4085e-01, -4.2989e-01,\n",
       "         -4.0534e-01,  7.0414e-02,  7.2805e-01, -6.2127e-01,  4.6555e-01,\n",
       "          8.6705e-01,  9.7179e-01, -2.3730e-01, -1.3445e-01,  1.2894e-01,\n",
       "         -8.8222e-01,  3.0539e-01,  9.1180e-01,  9.0392e-01,  8.3043e-01,\n",
       "         -4.6529e-02, -4.5893e-01,  4.2068e-02, -7.7260e-01,  4.3736e-01,\n",
       "          6.0799e-01, -3.4440e-01, -7.4966e-01, -7.6600e-01, -8.8681e-01,\n",
       "         -3.1628e-01,  1.6432e-01, -9.0102e-02,  8.4110e-01,  5.7122e-01,\n",
       "          6.4641e-01, -3.4323e-01, -6.6302e-01,  7.1755e-01, -5.2379e-01,\n",
       "          4.2236e-01,  1.7024e-01, -4.1470e-01,  9.0299e-01, -4.4858e-01,\n",
       "          2.4595e-01, -3.3775e-01,  6.5094e-02,  4.7604e-01,  1.1046e-01,\n",
       "         -8.7761e-01, -4.9296e-01, -8.5562e-01, -3.9115e-01, -8.8739e-01,\n",
       "          4.7390e-01, -8.8259e-01,  3.4008e-01, -4.8879e-01, -7.9087e-01,\n",
       "          7.7565e-01, -3.6195e-01,  4.6478e-01, -2.4968e-01,  9.5526e-01,\n",
       "         -1.2354e-01, -2.8859e-01, -8.9132e-01,  6.2790e-01, -2.8654e-01,\n",
       "          4.9334e-01,  2.0928e-01,  2.7084e-01, -7.3417e-01, -4.9371e-01,\n",
       "          9.3576e-01,  5.3200e-01,  8.5779e-01,  5.0788e-01,  5.0417e-01,\n",
       "         -1.0026e-01,  6.9276e-01,  1.0134e-01, -7.1283e-01, -5.7873e-01,\n",
       "          4.2422e-01,  8.7521e-01, -7.5692e-01, -7.3089e-02,  4.8122e-01,\n",
       "          6.6562e-01,  4.9536e-02,  9.0276e-02,  3.0639e-01, -6.5543e-01,\n",
       "         -7.2026e-01,  4.1300e-01, -5.4317e-01, -1.0545e-01, -4.6709e-01,\n",
       "         -6.8632e-01, -3.9660e-01,  4.1241e-01, -6.4673e-02,  6.5828e-02,\n",
       "          2.2676e-01, -3.4894e-01,  5.2829e-01, -5.6145e-01,  9.3407e-01,\n",
       "          1.1662e-01, -3.2703e-01, -3.8462e-01,  5.0275e-01,  9.3575e-01,\n",
       "          2.2181e-01,  8.8546e-01,  4.9748e-01, -1.2154e-01, -4.9080e-01,\n",
       "          6.7606e-01,  6.9411e-01,  9.0406e-01,  9.6344e-01,  4.7389e-01,\n",
       "          1.2017e-01, -7.7243e-01,  4.1019e-01,  9.2591e-01, -8.7443e-01,\n",
       "         -3.6139e-01, -1.3425e-01, -5.7550e-01, -2.8531e-02, -7.9812e-01,\n",
       "         -6.8595e-01, -4.9408e-01, -4.8971e-01,  4.8358e-01,  8.3148e-01,\n",
       "         -3.0809e-01,  7.8125e-01,  8.6111e-01,  9.4718e-01,  3.9243e-01,\n",
       "         -8.6313e-01, -6.0895e-01, -8.9853e-01, -2.6259e-01, -5.7507e-01,\n",
       "         -5.6835e-01, -4.2179e-01, -4.0134e-01, -3.8495e-01, -9.8120e-01,\n",
       "         -4.4896e-01, -6.0549e-01,  4.0118e-02,  9.2203e-01,  6.0745e-01,\n",
       "          7.0931e-01,  5.2444e-01, -8.3239e-01, -4.2207e-02, -5.5428e-01,\n",
       "         -7.5034e-01, -3.0185e-01,  8.8861e-01,  3.5762e-01,  8.5234e-01,\n",
       "          3.8198e-01,  8.3939e-01,  7.9989e-01, -8.6979e-01,  2.7182e-01,\n",
       "         -4.7306e-01,  7.2225e-01,  8.3526e-01, -5.8517e-01,  9.5681e-01,\n",
       "         -1.3310e-01,  9.4115e-02,  7.6472e-02, -9.8192e-01,  3.3753e-01,\n",
       "         -6.7930e-01, -4.0981e-01, -1.5048e-01, -4.0629e-01,  6.5569e-01,\n",
       "         -5.5510e-01, -2.5835e-02,  4.9231e-01,  4.0178e-01,  9.4049e-01,\n",
       "         -8.1535e-01, -1.8010e-01,  4.6538e-01, -9.8444e-01, -4.4610e-01,\n",
       "         -2.7384e-01, -9.5854e-01,  8.7400e-01, -5.5108e-01,  8.9135e-01,\n",
       "         -6.5850e-01,  5.4398e-01, -1.6231e-01,  5.2950e-01, -3.0818e-01,\n",
       "         -4.4031e-01,  9.8463e-01,  3.1642e-01,  8.2039e-01, -5.8447e-01,\n",
       "          8.8120e-02, -4.2930e-02,  4.7095e-01,  3.7986e-01,  8.2736e-01,\n",
       "         -4.3363e-01, -7.5004e-01, -7.6541e-02, -1.5566e-01,  6.2304e-01,\n",
       "          8.1485e-01, -9.5451e-01,  1.3896e-01, -3.7385e-03, -7.7694e-01,\n",
       "          8.5665e-01,  5.2721e-01, -6.7998e-01,  3.9739e-01,  7.0585e-01,\n",
       "         -2.1918e-01, -1.9786e-01, -7.0175e-02, -3.6815e-01, -6.9846e-01,\n",
       "         -8.4447e-01,  9.2115e-01,  7.8385e-01, -7.1929e-01,  1.2948e-01,\n",
       "          8.5337e-01, -4.0201e-01,  8.4897e-01,  6.9317e-01,  5.6578e-02,\n",
       "          9.3766e-01,  2.7561e-01,  1.4958e-01,  7.7468e-01,  8.5760e-01,\n",
       "         -1.1087e-01,  9.1383e-01,  9.5976e-01, -4.4083e-01, -7.6851e-01,\n",
       "          6.3762e-02, -2.0903e-01, -3.8042e-01,  8.2383e-01, -8.4304e-01,\n",
       "         -8.5719e-01,  1.3898e-01, -8.0889e-01,  1.7200e-01,  8.4923e-01,\n",
       "         -6.6460e-01,  6.8681e-01, -5.6699e-01, -6.1812e-01, -5.2723e-01,\n",
       "         -1.4781e-01, -9.6294e-01,  2.4351e-01,  1.6348e-02,  7.7329e-01,\n",
       "          4.6307e-01, -1.7199e-01,  8.0279e-01,  5.4856e-01,  5.2265e-01,\n",
       "          2.6989e-01, -3.9432e-01,  7.7783e-01,  8.9016e-01,  6.8229e-01,\n",
       "         -5.9302e-01,  1.7046e-01,  1.9568e-01,  9.6986e-01,  7.8048e-01,\n",
       "          5.7882e-02, -9.6582e-02, -5.0367e-01, -5.2848e-01,  9.7418e-01,\n",
       "         -3.6330e-01, -7.8916e-01, -6.9302e-01, -6.4672e-01,  8.3787e-01,\n",
       "         -5.7496e-01, -3.9942e-01, -8.7684e-01,  4.3861e-01, -8.6430e-01,\n",
       "         -6.4426e-01, -7.8364e-01, -2.8220e-01, -9.0625e-01,  4.0333e-01,\n",
       "          5.7250e-02,  6.5043e-01,  7.4204e-01,  1.0968e-01, -9.5609e-01,\n",
       "          7.3844e-01,  8.4644e-01, -1.6528e-01,  9.2856e-01,  7.9861e-01,\n",
       "          8.8656e-01,  9.6510e-01,  4.1234e-01, -4.0093e-02,  4.8247e-01,\n",
       "          4.8774e-01, -2.4239e-01,  9.4412e-01,  2.8986e-01,  7.3691e-01,\n",
       "          1.5214e-01,  6.4076e-01, -7.4539e-01, -7.1747e-02,  8.0377e-01,\n",
       "          4.6041e-01,  4.3668e-01,  6.1939e-02, -3.8693e-01, -6.6112e-01,\n",
       "         -5.0128e-01,  8.4031e-01, -2.3766e-01,  9.3640e-01, -4.8578e-01,\n",
       "          4.5516e-01, -2.7002e-01, -1.2185e-01, -4.7680e-01,  8.2924e-01,\n",
       "         -4.6737e-01,  5.9569e-01, -6.5929e-01, -9.8920e-01, -8.4276e-01,\n",
       "         -5.8980e-01,  5.0563e-01,  6.0793e-01,  4.9269e-01, -1.9436e-01,\n",
       "         -1.3287e-01, -5.4583e-01,  4.2399e-01, -6.8338e-01, -6.2344e-01,\n",
       "          2.0490e-01, -6.8744e-01,  4.9213e-01,  2.0930e-04,  4.4814e-01,\n",
       "          2.3730e-01,  3.6612e-01, -3.3988e-02, -4.5264e-01,  9.0789e-01,\n",
       "          8.3440e-01, -5.6739e-01, -8.0804e-01,  9.0288e-01,  6.1736e-01,\n",
       "         -8.7451e-02, -9.8290e-01,  8.4384e-01,  8.6601e-01, -8.2895e-01,\n",
       "         -8.0858e-01, -2.7998e-01,  6.7264e-03, -4.0760e-02, -1.3204e-02,\n",
       "          2.0607e-01, -8.5190e-01, -9.1698e-02, -8.7853e-01, -5.6502e-01,\n",
       "          2.2661e-01,  6.8645e-01,  7.3214e-01,  8.7151e-01,  4.1397e-01,\n",
       "          8.8107e-01,  8.3061e-01, -8.4782e-01, -6.9896e-02, -2.8858e-01,\n",
       "          9.1798e-01,  8.7726e-01,  2.5526e-01,  1.9604e-01,  9.5688e-01,\n",
       "          8.4726e-01, -7.7930e-01,  2.5791e-01,  1.7292e-01, -1.7117e-01,\n",
       "         -3.2293e-01, -9.6643e-01,  7.0301e-01,  5.9573e-01,  8.3117e-01,\n",
       "          5.9306e-01,  7.1092e-01,  1.8252e-01, -5.2269e-01,  4.9549e-01,\n",
       "         -6.0483e-01, -6.0299e-01,  9.4449e-01,  8.0783e-01,  7.9450e-01,\n",
       "          1.1374e-01,  6.0256e-01,  7.5407e-01, -8.8759e-01,  3.6242e-01,\n",
       "         -2.7183e-01,  2.7213e-01,  9.1763e-01, -4.7291e-01,  3.8338e-01,\n",
       "         -4.2073e-01,  2.2063e-01, -7.8057e-01,  4.0389e-01, -2.6981e-01,\n",
       "         -1.5593e-01,  1.0893e-01, -7.8307e-01, -5.9839e-01,  5.8653e-01,\n",
       "         -9.5472e-01,  9.1574e-01, -3.1048e-01, -5.6372e-01, -9.8019e-01,\n",
       "         -5.3096e-01,  8.4516e-01,  6.9952e-01,  6.7272e-01,  3.2516e-01,\n",
       "         -4.7044e-01, -7.0095e-01, -6.8475e-02,  5.1370e-02,  6.1925e-01,\n",
       "          3.5711e-01, -8.6225e-01,  7.0290e-01, -6.6928e-01,  5.6475e-01,\n",
       "         -9.8722e-01, -5.1857e-01,  6.2180e-01,  2.9552e-01, -8.4942e-01,\n",
       "         -9.3298e-01,  7.8946e-01, -8.4775e-02,  3.1639e-01,  7.0662e-01,\n",
       "          5.1689e-02, -7.0225e-01, -2.1526e-01,  3.8274e-01,  8.7968e-01,\n",
       "         -4.2371e-01, -2.1576e-01,  6.9028e-01, -3.1649e-01, -4.1235e-03,\n",
       "         -6.0967e-01, -9.9161e-01,  8.0664e-01, -3.6147e-01, -9.1465e-01,\n",
       "          1.0292e-01,  1.4748e-02,  5.8400e-01, -8.8694e-01, -9.9121e-01,\n",
       "         -7.1091e-01, -4.6657e-01, -2.8330e-01, -7.7080e-01, -3.5409e-01,\n",
       "         -1.5206e-01, -7.6034e-01,  3.9799e-01,  9.1723e-01,  2.9461e-01,\n",
       "          8.9433e-01, -8.9533e-01,  9.2161e-01, -4.7330e-01,  1.8760e-01,\n",
       "          7.3364e-01,  6.5155e-01,  8.5610e-01, -8.7464e-01,  3.2487e-01,\n",
       "          4.8895e-01, -1.4606e-01,  7.1205e-01,  9.6025e-01, -5.7441e-01,\n",
       "         -4.8083e-01,  8.6985e-01,  4.8271e-01,  4.8802e-02,  8.8646e-01,\n",
       "          8.7583e-01, -6.0850e-01,  6.3597e-02, -4.3187e-01, -7.6690e-01,\n",
       "          2.0986e-01, -3.8099e-01, -6.2430e-01,  5.9912e-01,  8.4846e-02,\n",
       "          4.8612e-01, -8.9478e-01,  9.1365e-01,  7.4316e-01,  5.2422e-01,\n",
       "          4.3385e-01, -1.7221e-01,  2.9997e-01, -8.6002e-01, -9.3541e-01,\n",
       "          4.0289e-01,  4.7994e-01, -9.3732e-01, -9.4549e-01, -6.9127e-01,\n",
       "         -5.8421e-01, -1.5752e-01,  7.4611e-01, -3.3929e-01, -8.3713e-01,\n",
       "          8.1426e-01,  5.6054e-01, -3.8045e-01,  9.7203e-01,  9.0826e-01,\n",
       "          9.6809e-01,  1.6977e-01, -9.6238e-01,  8.1848e-01,  5.0528e-01,\n",
       "          3.0063e-01,  9.1800e-01,  4.4061e-01, -6.8775e-02, -9.1340e-02,\n",
       "         -1.9179e-01,  2.6943e-01,  4.4187e-01, -6.4716e-01, -5.0892e-02,\n",
       "          2.2238e-01, -6.5737e-01, -7.0251e-01, -5.2544e-01,  4.8166e-01,\n",
       "          3.3216e-01,  2.7998e-01, -2.8934e-01,  4.4552e-01, -2.7969e-02,\n",
       "         -8.9079e-01,  1.4654e-01, -6.8509e-01,  6.7506e-01,  8.1551e-01,\n",
       "          8.0674e-01, -6.4219e-01,  3.2584e-01,  5.9660e-01, -2.0140e-01,\n",
       "         -9.8241e-01, -6.1351e-01,  6.7791e-01,  3.6051e-01,  1.6312e-01,\n",
       "          8.2975e-01, -1.4350e-01, -3.1002e-01, -2.6484e-01,  7.9550e-01,\n",
       "         -3.2603e-01,  6.4304e-01, -4.3287e-01,  1.1997e-01,  7.9578e-01,\n",
       "         -8.7574e-01, -8.6673e-01, -4.3525e-01,  3.2732e-01,  3.9048e-01,\n",
       "         -8.2133e-01,  9.7861e-01,  8.2859e-01, -2.7446e-01,  3.7787e-02,\n",
       "          5.3766e-01,  8.9709e-01, -1.4662e-01, -5.0354e-02,  9.4579e-01,\n",
       "         -4.8825e-01, -1.8099e-01, -4.3165e-02,  5.7008e-01, -4.2967e-01,\n",
       "          9.0977e-02,  8.2936e-02,  7.5848e-01,  6.0111e-01,  2.5478e-01,\n",
       "          2.1621e-01,  6.7101e-01, -2.9418e-01,  1.8223e-01,  4.0150e-01,\n",
       "          4.3148e-01,  7.2435e-01,  1.6854e-01,  8.6658e-01,  1.3732e-01,\n",
       "         -9.3147e-01,  4.3289e-01,  8.2723e-01, -8.3695e-01, -5.3862e-01,\n",
       "          5.5559e-01,  2.3410e-01, -7.0360e-02,  4.6554e-01, -7.0680e-01,\n",
       "          5.7798e-01,  2.1073e-01,  6.8905e-01, -6.2551e-01,  5.1472e-01,\n",
       "         -6.7072e-01, -3.2233e-01,  4.4893e-01,  7.7224e-01, -3.2572e-03,\n",
       "          1.4033e-01,  9.4319e-01, -5.7720e-02,  2.5067e-01,  7.6142e-03,\n",
       "         -9.6997e-02, -1.7217e-02, -2.4455e-01, -2.5500e-01, -9.3849e-01,\n",
       "          1.7518e-01, -4.2269e-01, -8.2013e-01,  2.8845e-01,  7.0179e-01,\n",
       "          3.1957e-02,  7.3980e-01, -9.2191e-01,  6.4395e-01, -7.2966e-01,\n",
       "         -9.7290e-01,  9.1800e-01,  7.7346e-01,  5.0749e-02,  5.7801e-01,\n",
       "          3.6930e-01, -4.3236e-01,  2.2707e-01,  2.2999e-01,  6.2005e-01,\n",
       "         -7.5338e-01, -3.7386e-01, -3.0074e-01, -6.1869e-01, -1.5973e-01,\n",
       "          9.9769e-01, -6.6014e-01, -8.5021e-01, -9.4180e-01, -8.6990e-02,\n",
       "          7.2147e-01,  4.4650e-01, -3.0315e-02]]), 'last_hidden_state': tensor([[[-0.0615,  1.7488,  0.1524,  ..., -2.5127,  0.3957,  1.0386],\n",
       "         [ 0.7590,  1.5153,  0.0866,  ..., -3.2632,  0.9716, -0.7672],\n",
       "         [ 0.6352,  1.1994,  0.1730,  ..., -3.4144,  0.9695, -0.8213],\n",
       "         ...,\n",
       "         [-0.1895, -0.0069,  1.4629,  ...,  3.8057,  3.5238, -0.3814],\n",
       "         [-0.8068,  0.0000,  1.5330,  ...,  3.6637,  3.5940, -0.4189],\n",
       "         [-0.3584, -0.1300,  0.8944,  ...,  3.7314,  2.8409, -0.2864]]])}"
      ]
     },
     "execution_count": 9,
     "metadata": {},
     "output_type": "execute_result"
    }
   ],
   "source": [
    "txt = '\\n0000912057-94-000263.hdr.sgml : 19950608\\nACCESSION NUMBER:\\t\\t0000912057-94-000263\\nCONFORMED SUBMISSION TYPE:\\t10-K\\nPUBLIC DOCUMENT COUNT:\\t\\t3\\nCONFORMED PERIOD OF REPORT:\\t19930831\\nFILED AS OF DATE:\\t\\t19931129\\nDATE AS OF CHANGE:\\t\\t19931129\\nSROS:\\t\\t\\tNONE\\n\\nFILER:\\n\\n\\tCOMPANY DATA:\\t\\n\\t\\tCOMPANY CONFORMED NAME:\\t\\t\\tAMERICAN MEDICAL HOLDINGS INC\\n\\t\\tCENTRAL INDEX KEY:\\t\\t\\t0000861439\\n\\t\\tSTANDARD INDUSTRIAL CLASSIFICATION:\\t8060\\n\\t\\tIRS NUMBER:\\t\\t\\t\\t133527632\\n\\t\\tSTATE OF INCORPORATION:\\t\\t\\tDE\\n\\t\\tFISCAL YEAR END:\\t\\t\\t0831\\n\\n\\tFILING VALUES:\\n\\t\\tFORM TYPE:\\t\\t10-K\\n\\t\\tSEC ACT:\\t\\t1934 Act\\n\\t\\tSEC FILE NUMBER:\\t001-10511\\n\\t\\tFILM NUMBER:\\t\\t94505453\\n\\n\\tBUSINESS ADDRESS:\\t\\n\\t\\tSTREET 1:\\t\\t8201 PRESTON RD, SUITE 300\\n\\t\\tCITY:\\t\\t\\tDALLAS\\n\\t\\tSTATE:\\t\\t\\tTX\\n\\t\\tZIP:\\t\\t\\t75255\\n\\t\\tBUSINESS PHONE:\\t\\t2143606300\\n\\n</SEC-Header>\\n</Header>\\n\\n \\nProc-Type: 2001,MIC-CLEAR\\nOriginator-Name: keymaster@town.hall.org\\nOriginator-Key-Asymmetric:\\n MFkwCgYEVQgBAQICAgADSwAwSAJBALeWW4xDV4i7+b6+UyPn5RtObb1cJ7VkACDq\\n pKb9/DClgTKIm08lCfoilvi9Wl4SODbR1+1waHhiGmeZO8OdgLUCAwEAAQ==\\nMIC-Info: RSA-MD5,RSA,\\n jSme4OE5puXgBpdHHyga1WdDJ0E3trqOOdfp13QPWNizEt4YLMTbUPjitjQi47a9\\n tBwulFatOU1F7uc/UNiQZQ==\\n\\n 0000912057-94-000263.txt : 19950608\\n\\n10-K\\n 1\\n 10-K\\n\\n- - - - --------------------------------------------------------------------------------\\n- - - - --------------------------------------------------------------------------------\\n\\n                       SECURITIES AND EXCHANGE COMMISSION\\n                             WASHINGTON, D.C. 20549\\n\\n                            ------------------------\\n\\n                                   Form 10-K\\n(Mark One)\\n   /X/           ANNUAL REPORT PURSUANT TO SECTION 13 OR 15 (D)\\n             OF THE SECURITIES EXCHANGE ACT OF 1934 (FEE REQUIRED)\\n                   FOR THE FISCAL YEAR ENDED AUGUST 31, 1993\\n                                       OR\\n\\n   / /         TRANSITION REPORT PURSUANT TO SECTION 13 OR 15 (D)\\n            OF THE SECURITIES EXCHANGE ACT OF 1934 (NO FEE REQUIRED)\\n              FOR THE TRANSITION PERIOD FROM          TO\\n\\n                            COMMISSION FILE NUMBER)\\n                                    1-10511\\n                             ---------------------\\n\\n                        AMERICAN MEDICAL HOLDINGS, INC.\\n             (Exact name of registrant as specified in its charter)\\n\\n             DELAWARE                                    13-3527632\\n  (State or other jurisdiction of                     (I.R.S. Employer\\n  incorporation or organization)                     Identification No.)\\n\\n                             Commission file number\\n                                     1-7612\\n                            ------------------------\\n\\n                      AMERICAN MEDICAL INTERNATIONAL, INC.\\n             (Exact name of registrant as specified in its charter)\\n\\n            DELAWARE                                    95-2111054\\n(State or other jurisdiction of            (I.R.S. Employer Identification No.)\\n incorporation or organization)\\n8201 Preston Road, Dallas, Texas                          75225\\n(Address of principal executive                         (Zip Code)\\n            offices)\\n\\n      (Registrants\\' telephone number, including area code) (214) 360-6300\\n                            ------------------------\\n\\n          Securities registered pursuant to Section 12(b) of the Act:\\n                        American Medical Holdings, Inc.:\\n\\n(TITLE OF EACH CLASS)           (NAME OF EACH EXCHANGE ON WHICH REGISTERED)\\n- - - - ----------------------          -------------------------------------------\\n     COMMON STOCK                         NEW YORK STOCK EXCHANGE\\n\\n          Securities registered pursuant to Section 12(g) of the Act:\\n                     American Medical International, Inc.:\\n              8 1/4% Convertible Subordinated Debentures due 2008\\n              9 1/2% Convertible Subordinated Debentures due 2001\\n                                (Title of class)\\n\\n    Indicate  by check mark  whether the Registrants (1)  have filed all reports\\nrequired to be filed by  Section 13 or 15(d) of  the Securities Exchange Act  of\\n1934  during  the preceding  12  months (or  for  such shorter  period  that the\\nRegistrants were required to  file such reports), and  (2) have been subject  to\\nsuch  filing requirements for the past  90 days. American Medical Holdings, Inc.\\n Yes _X_ No ____ . American Medical International, Inc.\\nYes _X_ No ____ .\\n\\n    As of November  18, 1993 there  were 76,987,204 shares  of American  Medical\\nHoldings,  Inc. Common Stock, $.01 par  value, outstanding. The aggregate market\\nvalue of Common  Stock held by  non-affiliates of the  registrant, based on  the\\nclosing   price  of  these  shares  at  November  18,  1993,  was  approximately\\n$479,199,166. For the purposes of the foregoing calculation only, all  directors\\nand  executive officers and  principal stockholders of  the registrant have been\\ndeemed affiliates.\\n\\n    All  shares  of  Common   Stock,  $.01  par   value,  of  American   Medical\\nInternational, Inc. are held by American Medical Holdings, Inc.\\n\\n                      DOCUMENTS INCORPORATED BY REFERENCE\\nAmerican Medical Holdings, Inc.\\'s definitive proxy statement for its 1994 Annual\\n                      Meeting of Stockholders....Part III\\n\\n- - - - --------------------------------------------------------------------------------\\n- - - - --------------------------------------------------------------------------------\\n \\n                                     INDEX\\n\\nPAGE\\n                                                                                  REFERENCE\\n                                                                                  ---------\\n                                                                               \\n                                          PART I\\nItem 1.   Business..............................................................        1\\nItem 2.   Properties............................................................       12\\nItem 3.   Legal Proceedings.....................................................       12\\nItem 4.   Submission of Matters to a Vote of Security Holders...................       12\\n                                          PART II\\nItem 5.   Market for the Registrant\\'s Common Stock and Related Stockholder\\n          Matters...............................................................       14\\nItem 6.   Selected Financial Data...............................................       15\\nItem 7.   Management\\'s Discussion and Analysis of Financial Condition and\\n          Results of Operations.................................................       16\\nItem 8.   Financial Statements and Supplementary Data...........................       23\\nItem 9.   Changes in and Disagreements with Accountants on Accounting and\\n          Financial Disclosure..................................................       23\\n                                         PART III\\nItem 10.  Directors and Executive Officers of the Registrants...................       23\\nItem 11.  Executive Compensation................................................       23\\nItem 12.  Security Ownership of Certain Beneficial Owners and Management........       23\\nItem 13.  Certain Relationships and Related Transactions........................       23\\n                                          PART IV\\nItem 14.  Exhibits, Financial Statement Schedules and Reports on Form 8-K.......       23\\n\\nPART I\\n\\nITEM 1. BUSINESS\\n\\n    GENERAL\\n\\n    American  Medical Holdings, Inc. (\"Holdings\") was organized in July, 1989 to\\nacquire American Medical International, Inc. (\"AMI\" and, together with Holdings,\\nthe \"Company\"). As a result of this acquisition, Holdings is the owner of all of\\nthe outstanding shares of common stock of AMI.\\n\\n    The Company  is one  of the  leading hospital  management companies  in  the\\nUnited  States.  Generally,  the Company\\'s  hospitals  provide a  full  range of\\ninpatient and  outpatient  services including  medical/surgical,  obstetric  and\\ndiagnostic  services and  services provided  by intensive  care units, emergency\\nrooms,  laboratories  and  pharmacies.  The  Company  also  operates   ancillary\\nfacilities  at each of its hospitals, such as ambulatory, occupational and rural\\nhealthcare clinics. At August 31, 1993,  the Company operated 35 domestic  acute\\ncare hospitals and one psychiatric hospital containing a total of 8,003 licensed\\nbeds.  The Company\\'s hospitals  are principally located in  the suburbs of major\\nmetropolitan areas in 12 states including Texas, Florida and California. Through\\nbroad networks including  health maintenance  organizations, preferred  provider\\norganizations,  insurers  and  employers,  the  Company  provides  high quality,\\naffordable  health  services  while  facing  the  challenge  of  containing  the\\ncontinually rising healthcare costs.\\n\\n    Management  expects that the  Company\\'s ongoing control  of costs emphasized\\nduring fiscal  1993 will  provide the  Company a  competitive edge  to  increase\\nmarket  share notwithstanding  the presence  of a  managed care  environment. In\\nresponse to the  ever-changing healthcare  system, the  shift toward  outpatient\\nservices,  the need  to reduce  provider costs  for acute-care  services and the\\nClinton Administration\\'s desire to provide  universal access to healthcare,  the\\nCompany  is developing  physician networks  and alliances  with other healthcare\\nproviders to create fully integrated healthcare delivery systems.\\n\\n    Holdings and AMI are Delaware corporations with principal executive  offices\\nlocated  at  8201  Preston  Road,  Suite  300,  P.O.  Box  25651,  Dallas, Texas\\n75225-5651. The telephone number for Holdings  and AMI at such address is  (214)\\n360-6300. AMI was incorporated in 1957.\\n\\n    PROPERTIES\\n\\n    The  Company  owns  or  leases  and operates  the  following  35  acute care\\nhospitals and one psychiatric hospital.\\n\\n1\\n\\nThe Company  also  owns or  manages  medical office  buildings  and  related\\nhealthcare  facilities associated  with 31 of  its hospitals as  well as certain\\nundeveloped properties.\\n\\n                                       2\\n \\n    EMPLOYEES\\n\\n    As of August 31,  1993, the Company had  approximately 28,200 employees,  of\\nwhich approximately 66% were full time employees. Two of the Company\\'s hospitals\\nhad  labor  contracts  covering  approximately 5%  of  the  Company\\'s employees.\\nManagement  believes  that  its  relations  with  its  employees  generally  are\\nsatisfactory.\\n\\n    MEDICAL STAFFS\\n\\n    The  medical  staff  at  each hospital  generally  consists  of non-employee\\nphysicians. There  is a  trend in  the healthcare  industry in  some regions  to\\nemploy  physicians and where  appropriate, the Company\\'s  hospitals have pursued\\nthis option. Medical staff members of  the Company-owned hospitals that are  not\\nemployees usually also serve on the medical staffs of hospitals not owned by the\\nCompany  and may terminate their  relationships with the Company-owned hospitals\\nat any time.\\n\\n    Rules and  regulations concerning  the medical  aspects of  each  hospital\\'s\\noperations  are  adopted  and enforced  by  its  medical staff.  Such  rules and\\nregulations provide that the members of  the staff elect officers who,  together\\nwith  additional physicians selected by them, supervise all medical and surgical\\nprocedures and services. Their supervision  is subject to the general  oversight\\nof the hospital\\'s Governing Board.\\n\\n    QUALITY OF SERVICES\\n\\n    Management  believes the quality of healthcare services is critical in order\\nto attract  and retain  top physicians  and  increase the  market share  of  the\\nCompany\\'s  hospitals. One of the  key mechanisms used to  monitor the quality of\\ncare at  the Company\\'s  hospitals is  a quality  assurance program  designed  to\\nmeasure   patient  satisfaction,  the  Patient  Satisfaction  Monitoring  System\\n(\"PSMS\"). PSMS utilizes the  results of interviews  performed by an  independent\\nresearch  company  of  a  statistically determined  sample  group  of discharged\\npatients at each  hospital to  gather patient responses  regarding the  hospital\\nservices  provided. Management uses the results as a tool to improve the quality\\nof patient services and satisfaction and believes PSMS has assisted the  Company\\nin successfully maintaining and improving the quality of healthcare as perceived\\nby  patients  and  their physicians  and  thereby contributing  to  improved net\\nrevenues. PSMS  is also  used by  the Company  as one  of the  bases upon  which\\nhospital  executive  directors and  other  employees are  compensated  under the\\nCompany\\'s incentive compensation program.  Management believes that the  Company\\nwas  the first in the industry to directly tie compensation to the attainment of\\nqualitative performance targets.\\n\\n    The Company  has  recently developed  a  system  similar to  PSMS  which  is\\ndesigned  to measure physician satisfaction, the MD Satisfaction Survey. A pilot\\nprogram for this  survey has been  implemented at one  hospital and the  Company\\nplans  to make it available for use at each of the Company\\'s hospitals in fiscal\\n1994.\\n\\n    COMPETITION\\n\\n    Generally, other  investor-owned and  non-profit  hospitals operate  in  the\\nlocal  markets in which  the Company participates and  provide services that are\\nsimilar to those offered by the Company\\'s hospitals. Competition among hospitals\\nand other healthcare  providers in  the United  States has  increased in  recent\\nyears  due to a decline  in occupancy rates resulting  from, among other things,\\nchanges in  government  regulation  and reimbursement,  other  cost  containment\\npressures, technology, and most recently, the healthcare reform plan proposed by\\nthe Clinton Administration. Additionally, hospitals owned by government agencies\\nor  other  tax-exempt  entities  benefit  from  advantages  such  as endowments,\\ncharitable contributions  and tax-exempt  financing,  which advantages  are  not\\navailable to the Company\\'s hospitals.\\n\\n    Management  believes  that a  hospital\\'s  competitive position  within local\\nmarkets is  affected by  various  factors including  the quality  of  healthcare\\nservices  provided, pricing of healthcare  services, the hospital\\'s location and\\nthe types of services offered. The Company expects to improve the performance of\\nits  hospitals  by  (i)   expanding  physician  network  relationships   thereby\\nattracting and retaining\\n\\n                                       3\\n \\nquality physician and medical personnel, (ii) increasing its emphasis on managed\\ncare  contracting,  (iii)  developing  and  marketing  new  healthcare  services\\ntargeted to the particular needs of the communities served by its hospitals, and\\n(iv) expanding profitable outpatient services.\\n\\n    The competitive  position of  a  hospital is  increasingly affected  by  its\\nability  to  negotiate  contracts  for  healthcare  services  with  managed care\\norganizations, including  health maintenance  organizations (\"HMOs\"),  preferred\\nprovider  organizations  (\"PPOs\")  and  other  purchasers  of  group  healthcare\\nservices. HMOs and PPOs attempt to  direct and control use of hospital  services\\nthrough  strict  utilization  management programs  and  by  negotiating provider\\ncontracts with only one or  a limited number of  hospitals in each market  area.\\nThe importance of negotiating with managed care organizations varies from market\\nto  market  depending on  the  market strength  of  such organizations.  In some\\nsituations, hospitals  have agreed  to fixed  payments based  on the  number  of\\nmanaged  care  enrollees,  thereby  assuming  hospital  utilization  risk  (such\\ncontracts are referred  to as capitated  contracts). Managed care  organizations\\nare  generally  able  to  obtain discounts  from  hospital  established charges.\\nManagement believes that the Company is able to compete effectively for  managed\\ncare  business in part  because of its relationships  with local physicians, its\\nhospital management teams, its attention to cost controls and quality of service\\nand its  strategies to  establish  service niches  in  markets served  by  other\\nhospitals.\\n\\n    Merger   and  acquisition  activity  has   significantly  increased  in  the\\nhealthcare industry involving  both investor-owned and  non-profit entities.  As\\nhealthcare   reforms  announced  by  the  Clinton  Administration  take  effect,\\nmanagement believes that it will become  more important for hospitals and  other\\nhealthcare  providers  to  work  together to  form  fully  integrated healthcare\\ndelivery systems and  thereby provide  the community and  marketplace with  high\\nquality, cost effective healthcare products and services. During fiscal 1993 the\\nCompany  entered into an  agreement with HealthTrust,  Inc.-The Hospital Company\\n(\"HealthTrust\") to jointly  operate AMI\\'s  Tarzana Regional  Medical Center  and\\nHealthTrust\\'s  Encino  Hospital.  Management  is  continually  evaluating  other\\nsimilar opportunities  and acquisitions  to  expand the  networks in  which  the\\nCompany currently participates.\\n\\n    SOURCES OF REVENUE\\n\\n    The  sources of the Company\\'s  hospital revenues are room  and board and the\\nprovision of ancillary  medical services.  Room and board  represents the  basic\\ncharges for the hospital room and related services, such as general nursing care\\nand  meals.  Ancillary medical  services represent  the  charges related  to the\\nmedical support activities performed by  the hospital, such as X-rays,  physical\\ntherapy  and laboratory procedures.  The Company receives  payments for services\\nrendered to patients from the federal government under Medicare and the Civilian\\nHealth and Medical  Program of  Uniformed Services  (\"CHAMPUS\") programs,  state\\ngovernments under their respective Medicaid programs, managed care organizations\\n(\"contracted  services\"), private insurers,  self-insured employers and directly\\nfrom patients. In addition to revenues received from such programs and patients,\\nthe Company receives other  non-patient revenues (e.g.  cafeteria and gift  shop\\nrevenues).  During fiscal 1991, the  Company also recognized revenues associated\\nwith an HMO owned by the Company and divested in fiscal 1991.\\n\\n    The following table presents  the percentage of net  revenues for the  three\\nyears ended August 31 under each of the following programs:\\n\\nThe  Company\\'s hospital revenues received under Medicare, Medicaid, CHAMPUS,\\nBlue Cross  and from  payors  of contracted  services  are generally  less  than\\ncustomary  charges for the  services covered. Following  the initiative taken by\\nthe federal government to control healthcare costs, other\\n\\n                                       4\\n \\nmajor purchasers  of  healthcare,  including  states,  insurance  companies  and\\nemployers,  are increasingly negotiating the amounts  they will pay for services\\nperformed  rather  than  simply  paying  healthcare  providers  their  customary\\ncharges.  Managed  care  programs  which offer  prepaid  and  discounted medical\\nservice packages are  capturing an increasing  share of the  market, tending  to\\nreduce  the historical  rate of  growth of hospital  revenues. As  a result, new\\nkinds of healthcare strategies and  provider networks (e.g. physician  networks)\\nare continuing to emerge.\\n\\n    Patients  are generally not responsible for any difference between customary\\nhospital charges and  amounts reimbursed under  Medicare, Medicaid, CHAMPUS  and\\nsome  Blue Cross plans  or by payors  of contracted services  for such services,\\nexcept to the extent of any exclusions, deductibles or co-insurance features  of\\ntheir  coverage. In  recent years insurers  and other payors  have increased the\\namount of such exclusions, deductibles and co-insurance generally increasing the\\npatient\\'s financial  responsibility  to  directly pay  for  some  services.  The\\nincrease  in the  self-pay portion of  a patient\\'s  financial responsibility may\\nalso increase the Company\\'s uncollectible accounts.\\n'\n",
    "\n",
    "import torch\n",
    "\n",
    "tokenized_txt = tokenizer(txt, return_tensors = 'pt')\n",
    "\n",
    "with torch.no_grad():\n",
    "    output = model(tokenized_txt['input_ids'], tokenized_txt['attention_mask'])\n",
    "output"
   ]
  },
  {
   "cell_type": "code",
   "execution_count": 4,
   "metadata": {},
   "outputs": [
    {
     "ename": "AttributeError",
     "evalue": "type object 'LongBERTConfig' has no attribute 'tokenizer_class'",
     "output_type": "error",
     "traceback": [
      "\u001b[0;31m---------------------------------------------------------------------------\u001b[0m",
      "\u001b[0;31mAttributeError\u001b[0m                            Traceback (most recent call last)",
      "\u001b[1;32m/root/Workspace/Playground/finBERT_test.ipynb Cell 27\u001b[0m line \u001b[0;36m3\n\u001b[1;32m      <a href='vscode-notebook-cell://ssh-remote%2Bregion-3.seetacloud.com/root/Workspace/Playground/finBERT_test.ipynb#X43sdnNjb2RlLXJlbW90ZQ%3D%3D?line=0'>1</a>\u001b[0m \u001b[39mimport\u001b[39;00m \u001b[39mtensorrt\u001b[39;00m \u001b[39mas\u001b[39;00m \u001b[39mtrt\u001b[39;00m\n\u001b[1;32m      <a href='vscode-notebook-cell://ssh-remote%2Bregion-3.seetacloud.com/root/Workspace/Playground/finBERT_test.ipynb#X43sdnNjb2RlLXJlbW90ZQ%3D%3D?line=1'>2</a>\u001b[0m \u001b[39mfrom\u001b[39;00m \u001b[39mtransformers\u001b[39;00m \u001b[39mimport\u001b[39;00m pipeline\n\u001b[0;32m----> <a href='vscode-notebook-cell://ssh-remote%2Bregion-3.seetacloud.com/root/Workspace/Playground/finBERT_test.ipynb#X43sdnNjb2RlLXJlbW90ZQ%3D%3D?line=2'>3</a>\u001b[0m nlp \u001b[39m=\u001b[39m pipeline(\u001b[39m\"\u001b[39;49m\u001b[39msentiment-analysis\u001b[39;49m\u001b[39m\"\u001b[39;49m,\n\u001b[1;32m      <a href='vscode-notebook-cell://ssh-remote%2Bregion-3.seetacloud.com/root/Workspace/Playground/finBERT_test.ipynb#X43sdnNjb2RlLXJlbW90ZQ%3D%3D?line=3'>4</a>\u001b[0m                model\u001b[39m=\u001b[39;49mmodel,\n\u001b[1;32m      <a href='vscode-notebook-cell://ssh-remote%2Bregion-3.seetacloud.com/root/Workspace/Playground/finBERT_test.ipynb#X43sdnNjb2RlLXJlbW90ZQ%3D%3D?line=4'>5</a>\u001b[0m                tokenizer\u001b[39m=\u001b[39;49mtokenizer,\n\u001b[1;32m      <a href='vscode-notebook-cell://ssh-remote%2Bregion-3.seetacloud.com/root/Workspace/Playground/finBERT_test.ipynb#X43sdnNjb2RlLXJlbW90ZQ%3D%3D?line=5'>6</a>\u001b[0m             \u001b[39m#    max_length=512,\u001b[39;49;00m\n\u001b[1;32m      <a href='vscode-notebook-cell://ssh-remote%2Bregion-3.seetacloud.com/root/Workspace/Playground/finBERT_test.ipynb#X43sdnNjb2RlLXJlbW90ZQ%3D%3D?line=6'>7</a>\u001b[0m             \u001b[39m#    truncation=True,\u001b[39;49;00m\n\u001b[1;32m      <a href='vscode-notebook-cell://ssh-remote%2Bregion-3.seetacloud.com/root/Workspace/Playground/finBERT_test.ipynb#X43sdnNjb2RlLXJlbW90ZQ%3D%3D?line=7'>8</a>\u001b[0m                device\u001b[39m=\u001b[39;49m\u001b[39m0\u001b[39;49m)\n",
      "File \u001b[0;32m~/miniconda3/lib/python3.10/site-packages/transformers/pipelines/__init__.py:882\u001b[0m, in \u001b[0;36mpipeline\u001b[0;34m(task, model, config, tokenizer, feature_extractor, image_processor, framework, revision, use_fast, token, device, device_map, torch_dtype, trust_remote_code, model_kwargs, pipeline_class, **kwargs)\u001b[0m\n\u001b[1;32m    880\u001b[0m model_config \u001b[39m=\u001b[39m model\u001b[39m.\u001b[39mconfig\n\u001b[1;32m    881\u001b[0m hub_kwargs[\u001b[39m\"\u001b[39m\u001b[39m_commit_hash\u001b[39m\u001b[39m\"\u001b[39m] \u001b[39m=\u001b[39m model\u001b[39m.\u001b[39mconfig\u001b[39m.\u001b[39m_commit_hash\n\u001b[0;32m--> 882\u001b[0m load_tokenizer \u001b[39m=\u001b[39m \u001b[39mtype\u001b[39m(model_config) \u001b[39min\u001b[39;00m TOKENIZER_MAPPING \u001b[39mor\u001b[39;00m model_config\u001b[39m.\u001b[39;49mtokenizer_class \u001b[39mis\u001b[39;00m \u001b[39mnot\u001b[39;00m \u001b[39mNone\u001b[39;00m\n\u001b[1;32m    883\u001b[0m load_feature_extractor \u001b[39m=\u001b[39m \u001b[39mtype\u001b[39m(model_config) \u001b[39min\u001b[39;00m FEATURE_EXTRACTOR_MAPPING \u001b[39mor\u001b[39;00m feature_extractor \u001b[39mis\u001b[39;00m \u001b[39mnot\u001b[39;00m \u001b[39mNone\u001b[39;00m\n\u001b[1;32m    884\u001b[0m load_image_processor \u001b[39m=\u001b[39m \u001b[39mtype\u001b[39m(model_config) \u001b[39min\u001b[39;00m IMAGE_PROCESSOR_MAPPING \u001b[39mor\u001b[39;00m image_processor \u001b[39mis\u001b[39;00m \u001b[39mnot\u001b[39;00m \u001b[39mNone\u001b[39;00m\n",
      "\u001b[0;31mAttributeError\u001b[0m: type object 'LongBERTConfig' has no attribute 'tokenizer_class'"
     ]
    }
   ],
   "source": [
    "import tensorrt as trt\n",
    "from transformers import pipeline\n",
    "nlp = pipeline(\"sentiment-analysis\",\n",
    "               model=model,\n",
    "               tokenizer=tokenizer,\n",
    "            #    max_length=512,\n",
    "            #    truncation=True,\n",
    "               device=0)"
   ]
  },
  {
   "cell_type": "code",
   "execution_count": null,
   "metadata": {},
   "outputs": [],
   "source": [
    "model = AutoModel.from_pretrained(\"minhtriphan/LongFinBERT-base\")"
   ]
  },
  {
   "cell_type": "code",
   "execution_count": null,
   "metadata": {},
   "outputs": [],
   "source": [
    "content = \"\"\"\n",
    "It s been about a month since the last Apple  NASDAQ AAPL  acquisition that investors have caught wind of  Spectral Edge  to bolster the company s computational photography   CEO Tim Cook confirmed last year that the tech titan tends to buy smaller companies every two to three weeks  Apple s latest acquisition is all about low power edge based artificial intelligence  AI  \n",
    "Here s what investors need to know \n",
    "\n",
    "Doing things locally\n",
    "GeekWire reports that Apple has scooped up Xnor ai  a Seattle based start up that specializes in on device AI  Xnor ai was previously spun out of Microsoft co founder Paul Allen s AI incubator  the Allen Institute for AI  AI2   back in 2017  The company provides tools through a self service platform that allow other developers to incorporate AI into their apps \n",
    "Apple paid an estimated  200 million for Xnor ai  according to the report  Apple had previously acquired another Seattle based AI start up  Turi  back in 2016  also for around  200 million \n",
    "\n",
    "Xnor ai s main differentiator is that its technology keeps all of the AI processing on the local device as opposed to relying on data centers in the cloud  Apple prefers to store as much data locally as possible in order to improve privacy protections \n",
    "Apple s A series of chips include a neural engine that handles most of the machine learning and AI locally on iPhones  with the latest A13 Bionic chip boasting significant machine learning performance improvements thanks to its eight core neural engine  Sensitive biometric data used for Face ID or Touch ID is also stored locally in what Apple calls a Secure Enclave \n",
    "At the same time  low power computing is critical to improving battery life  The start up showed off an AI chip last year that used so little energy  it could run off solar power \n",
    "In recent years  Apple has been aggressively expanding in Seattle  The company said last summer that the Emerald City would  become a key engineering hub  that would employ 2 000 workers within the next few years  The Mac maker s office is right around the corner from Amazon s headquarters  and Apple is undoubtedly poaching talent from its rival \n",
    "Sorry  Wyze\n",
    "Xnor ai s tech was incorporated into Wyze s smart home security cameras last summer  enabling people detection on the affordable    the entry level Wyze Cam V2 costs just  20    devices that was all processed locally  Just a few months after that feature was added  Wyze said in November that the people detection capability would be removed in January 2020 after Xnor ai terminated its contract \n",
    "Wyze is internally developing a comparable feature  although it may use the cloud instead of on device processing  The timing of all of that probably isn t a coincidence  It s entirely possible that Apple bought Xnor ai a couple months ago and investors are just now finding out\n",
    "\"\"\""
   ]
  },
  {
   "cell_type": "code",
   "execution_count": null,
   "metadata": {},
   "outputs": [],
   "source": [
    "result = nlp(content)\n",
    "result"
   ]
  }
 ],
 "metadata": {
  "kernelspec": {
   "display_name": "base",
   "language": "python",
   "name": "python3"
  },
  "language_info": {
   "codemirror_mode": {
    "name": "ipython",
    "version": 3
   },
   "file_extension": ".py",
   "mimetype": "text/x-python",
   "name": "python",
   "nbconvert_exporter": "python",
   "pygments_lexer": "ipython3",
   "version": "3.10.8"
  }
 },
 "nbformat": 4,
 "nbformat_minor": 2
}
