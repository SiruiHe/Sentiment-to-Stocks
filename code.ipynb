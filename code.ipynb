{
 "cells": [
  {
   "cell_type": "markdown",
   "metadata": {},
   "source": [
    "# Part 1: Sentiment Analysis"
   ]
  },
  {
   "cell_type": "code",
   "execution_count": null,
   "metadata": {},
   "outputs": [],
   "source": [
    "import pandas as pd\n",
    "\n",
    "# Load the CSV file\n",
    "file_path = './data/NEWS_YAHOO_stock_prediction.csv'\n",
    "data = pd.read_csv(file_path)\n",
    "\n",
    "# Display the first few rows of the dataframe\n",
    "data.head()"
   ]
  },
  {
   "cell_type": "code",
   "execution_count": null,
   "metadata": {},
   "outputs": [],
   "source": [
    "# Step 1: Remove unnecessary column\n",
    "data.drop(columns=['Unnamed: 0'], inplace=True)\n",
    "\n",
    "# Step 2: Remove duplicate texts\n",
    "data.drop_duplicates(subset=['title', 'content'], inplace=True)\n",
    "\n",
    "# Step 3: Remove rows with large amount of spaces or empty texts in 'title' and 'content'\n",
    "data = data[~data['title'].str.isspace()]\n",
    "data = data[~data['content'].str.isspace()]\n",
    "data.dropna(subset=['title', 'content'], inplace=True)\n",
    "\n",
    "# Check the dataframe after these preprocessing steps\n",
    "data.info()\n",
    "\n",
    "# Step 5: Check for invalid numeric data\n",
    "numeric_columns = ['Open', 'High', 'Low', 'Close', 'Adj Close', 'Volume']\n",
    "data[numeric_columns].describe()\n"
   ]
  },
  {
   "cell_type": "code",
   "execution_count": null,
   "metadata": {},
   "outputs": [],
   "source": [
    "# (optional) set proxy\n",
    "import subprocess\n",
    "import os\n",
    "\n",
    "result = subprocess.run('bash -c \"source ~/clash_dir/set && env | grep proxy\"', shell=True, capture_output=True, text=True)\n",
    "output = result.stdout\n",
    "output\n",
    "for line in output.splitlines():\n",
    "    if '=' in line:\n",
    "        var, value = line.split('=', 1)\n",
    "        os.environ[var] = value"
   ]
  },
  {
   "cell_type": "code",
   "execution_count": null,
   "metadata": {},
   "outputs": [],
   "source": [
    "from transformers import BertTokenizer, BertForSequenceClassification\n",
    "from transformers import pipeline\n",
    "\n",
    "# Load the FinBERT model and tokenizer\n",
    "checkpoint = 'yiyanghkust/finbert-tone'\n",
    "tokenizer = BertTokenizer.from_pretrained(checkpoint)\n",
    "model = BertForSequenceClassification.from_pretrained(checkpoint, num_labels=3)\n",
    "\n",
    "# Create a pipeline for sentiment analysis\n",
    "nlp = pipeline(\"sentiment-analysis\", model=model, tokenizer=tokenizer, max_length=512, truncation=True, device=0)"
   ]
  },
  {
   "cell_type": "code",
   "execution_count": null,
   "metadata": {},
   "outputs": [],
   "source": [
    "# Function to apply sentiment analysis to a dataframe\n",
    "def apply_sentiment_analysis(df, nlp, text_column='content'):\n",
    "    \"\"\"\n",
    "    Apply sentiment analysis to a column in a dataframe.\n",
    "    \n",
    "    Args:\n",
    "    df (pd.DataFrame): Dataframe containing the text data.\n",
    "    nlp (pipeline): HuggingFace pipeline for sentiment analysis.\n",
    "    text_column (str): Name of the column containing text data.\n",
    "\n",
    "    Returns:\n",
    "    pd.DataFrame: Dataframe with a new column 'sentiment' containing the analysis results.\n",
    "    \"\"\"\n",
    "    # Apply sentiment analysis to each row in the text column\n",
    "    sentiments = []\n",
    "    for text in df[text_column]:\n",
    "        try:\n",
    "            result = nlp(text)\n",
    "            sentiments.append(result[0]['label'])\n",
    "        except Exception as e:\n",
    "            print(f\"Error in processing text: {e}\")\n",
    "            sentiments.append('Error')\n",
    "\n",
    "    # Add the sentiments as a new column in the dataframe\n",
    "    df['sentiment'] = sentiments\n",
    "    return df\n"
   ]
  },
  {
   "cell_type": "code",
   "execution_count": null,
   "metadata": {},
   "outputs": [],
   "source": [
    "from tqdm.auto import tqdm\n",
    "import numpy as np\n",
    "from concurrent.futures import ThreadPoolExecutor\n",
    "\n",
    "def apply_sentiment_analysis_parallel(df, nlp, text_column='content', batch_size=10):\n",
    "    \"\"\"\n",
    "    Apply sentiment analysis in parallel to a column in a dataframe.\n",
    "\n",
    "    Args:\n",
    "    df (pd.DataFrame): Dataframe containing the text data.\n",
    "    nlp (pipeline): HuggingFace pipeline for sentiment analysis.\n",
    "    text_column (str): Name of the column containing text data.\n",
    "    batch_size (int): Number of texts to process in parallel.\n",
    "\n",
    "    Returns:\n",
    "    pd.DataFrame: Dataframe with a new column 'sentiment' containing the analysis results.\n",
    "    \"\"\"\n",
    "    # Define a function to process a batch of texts\n",
    "    def process_batch(texts):\n",
    "        return [nlp(text)[0]['label'] for text in texts]\n",
    "\n",
    "    # Break the texts into batches\n",
    "    batches = [df[text_column][i:i + batch_size] for i in range(0, len(df), batch_size)]\n",
    "\n",
    "    # Process batches in parallel\n",
    "    sentiments = []\n",
    "    with ThreadPoolExecutor() as executor:\n",
    "        for batch_result in tqdm(executor.map(process_batch, batches), total=len(batches)):\n",
    "            sentiments.extend(batch_result)\n",
    "\n",
    "    # Add the sentiments as a new column in the dataframe\n",
    "    df['sentiment'] = sentiments\n",
    "    return df\n"
   ]
  },
  {
   "cell_type": "code",
   "execution_count": null,
   "metadata": {},
   "outputs": [],
   "source": [
    "# Example usage of the function\n",
    "# Note: You will run this on your local machine as it requires GPU support\n",
    "sample_texts = [\"I've been waiting for a HuggingFace course my whole life.\", \"So have I!\"]\n",
    "sample_df = pd.DataFrame(sample_texts, columns=['content'])\n",
    "apply_sentiment_analysis(sample_df, nlp)"
   ]
  },
  {
   "cell_type": "code",
   "execution_count": null,
   "metadata": {},
   "outputs": [],
   "source": [
    "# Assuming the apply_sentiment_analysis function is defined as shown previously\n",
    "\n",
    "# Step 1: Apply sentiment analysis to the dataset\n",
    "# This step should be done on your local machine due to the requirement of GPU support\n",
    "data = apply_sentiment_analysis_parallel(data, nlp)\n",
    "\n",
    "# Step 2: Prepare data for the prediction model\n",
    "# Here we'll assume the sentiment analysis has been applied and 'sentiment' column is added to the data\n",
    "\n",
    "# We might want to convert sentiments to numerical values for model training\n",
    "sentiment_mapping = {'Positive': 1, 'Neutral': 0, 'Negative': -1}\n",
    "data['sentiment_numeric'] = data['sentiment'].map(sentiment_mapping)"
   ]
  },
  {
   "cell_type": "code",
   "execution_count": null,
   "metadata": {},
   "outputs": [],
   "source": [
    "# Example code to save the processed DataFrame to a CSV file\n",
    "data.to_csv('./data/dataset_with_sentiment.csv', index=False)\n"
   ]
  },
  {
   "cell_type": "code",
   "execution_count": null,
   "metadata": {},
   "outputs": [],
   "source": [
    "# Adjust display settings for better visualization of samples\n",
    "pd.set_option('display.max_colwidth', 200)  # Adjust the width to fit longer texts\n",
    "\n",
    "# Display some random samples with formatted output\n",
    "sample_data = data.sample(n=10)[['content', 'sentiment']]\n",
    "\n",
    "# Print each sample in a more readable format\n",
    "for index, row in sample_data.iterrows():\n",
    "    print(f\"Sample {index}:\")\n",
    "    print(f\"Content: {row['content']}\")\n",
    "    print(f\"Sentiment: {row['sentiment']}\\n\")\n"
   ]
  },
  {
   "cell_type": "code",
   "execution_count": null,
   "metadata": {},
   "outputs": [],
   "source": [
    "# Assuming 'data' is your DataFrame with 'sentiment' and 'label' columns\n",
    "# Calculate the proportion of each sentiment category\n",
    "sentiment_counts = data['sentiment'].value_counts(normalize=True) * 100\n",
    "\n",
    "# Calculate the proportion of each label\n",
    "label_counts = data['label'].value_counts(normalize=True) * 100\n",
    "\n",
    "# Print the results\n",
    "print(\"Sentiment Distribution (%):\")\n",
    "print(sentiment_counts)\n",
    "print(\"\\nLabel Distribution (%):\")\n",
    "print(label_counts)\n",
    "\n",
    "# For additional insights, we can also look at the cross-tabulation of sentiment and label\n",
    "crosstab = pd.crosstab(data['sentiment'], data['label'], normalize='index') * 100\n",
    "print(\"\\nCross-Tabulation of Sentiment and Label (%):\")\n",
    "print(crosstab)"
   ]
  },
  {
   "cell_type": "code",
   "execution_count": null,
   "metadata": {},
   "outputs": [],
   "source": [
    "# read for existed csv\n",
    "import pandas as pd\n",
    "data = pd.read_csv('./data/dataset_with_sentiment.csv')\n",
    "\n",
    "# Convert the 'Date' column to datetime format and sort the dataframe by 'Date'\n",
    "data['Date'] = pd.to_datetime(data['Date'])\n",
    "data_sorted = data.sort_values(by='Date')"
   ]
  },
  {
   "cell_type": "code",
   "execution_count": null,
   "metadata": {},
   "outputs": [],
   "source": [
    "# 按 'Date' 和 'sentiment' 分组，然后计算每个类别的 category 为news和opinion的数量\n",
    "category_news_per_day_sentiment = data_sorted[data_sorted['category'] == 'news'].groupby(['Date', 'sentiment']).size().unstack().fillna(0)\n",
    "category_opinion_per_day_sentiment = data_sorted[data_sorted['category'] == 'opinion'].groupby(['Date', 'sentiment']).size().unstack().fillna(0)\n",
    "# 分别计算news和opinion的total\n",
    "category_news_total_per_day_sentiment = data_sorted[data_sorted['category'] == 'news'].groupby(['Date']).size()\n",
    "category_opinion_total_per_day_sentiment = data_sorted[data_sorted['category'] == 'opinion'].groupby(['Date']).size()\n",
    "\n",
    "data_sorted = data_sorted.set_index('Date')\n",
    "data_sorted['P_news_pos'] = category_news_per_day_sentiment['Positive'].reindex(data_sorted.index) / category_news_total_per_day_sentiment.reindex(data_sorted.index)\n",
    "data_sorted['P_news_neg'] = category_news_per_day_sentiment['Negative'].reindex(data_sorted.index) / category_news_total_per_day_sentiment.reindex(data_sorted.index)\n",
    "data_sorted['P_op_pos'] = category_opinion_per_day_sentiment['Positive'].reindex(data_sorted.index) / category_opinion_total_per_day_sentiment.reindex(data_sorted.index)\n",
    "data_sorted['P_op_neg'] = category_opinion_per_day_sentiment['Negative'].reindex(data_sorted.index) / category_opinion_total_per_day_sentiment.reindex(data_sorted.index)\n",
    "data_sorted = data_sorted.reset_index()"
   ]
  },
  {
   "cell_type": "code",
   "execution_count": null,
   "metadata": {},
   "outputs": [],
   "source": [
    "daily_data = data_sorted.groupby('Date').last()\n",
    "\n",
    "# Shift the 'Open' column to get the next day's opening price\n",
    "daily_data['Next_Open'] = daily_data['Open'].shift(-1)\n",
    "\n",
    "# Drop the last row as it will not have a 'Next_Open' value\n",
    "daily_data = daily_data[:-1]"
   ]
  },
  {
   "cell_type": "code",
   "execution_count": null,
   "metadata": {},
   "outputs": [],
   "source": [
    "date_to_query = pd.to_datetime('2016-10-28')\n",
    "daily_data.loc[(date_to_query)]"
   ]
  },
  {
   "cell_type": "code",
   "execution_count": null,
   "metadata": {},
   "outputs": [],
   "source": [
    "date_to_query = pd.to_datetime('2016-10-28')\n",
    "data_sorted.loc[data_sorted['Date'] == date_to_query]"
   ]
  },
  {
   "cell_type": "code",
   "execution_count": null,
   "metadata": {},
   "outputs": [],
   "source": [
    "date_to_query = pd.to_datetime('2020-01-23')\n",
    "daily_data.loc[(date_to_query)]"
   ]
  },
  {
   "cell_type": "code",
   "execution_count": null,
   "metadata": {},
   "outputs": [],
   "source": [
    "date_to_query = pd.to_datetime('2018-05-06')\n",
    "category_to_query = 'news'\n",
    "data_sorted.loc[(data_sorted['Date'] == date_to_query) & (data_sorted['category'] == category_to_query)]"
   ]
  },
  {
   "cell_type": "code",
   "execution_count": null,
   "metadata": {},
   "outputs": [],
   "source": [
    "daily_data['P_news_neg'].fillna(0, inplace=True)\n",
    "daily_data['P_news_pos'].fillna(0, inplace=True)\n",
    "daily_data['P_op_neg'].fillna(0, inplace=True)\n",
    "daily_data['P_op_pos'].fillna(0, inplace=True)"
   ]
  },
  {
   "cell_type": "code",
   "execution_count": null,
   "metadata": {},
   "outputs": [],
   "source": [
    "# 不直接删除，而是存到新的df中。保留'date'列\n",
    "columns_to_keep = [col for col in daily_data.columns if col not in ['ticker', 'Adj Close', 'sentiment', 'sentiment_numeric', 'title', 'category', 'content', 'label']]\n",
    "daily_data_selected = daily_data[columns_to_keep]\n"
   ]
  },
  {
   "cell_type": "code",
   "execution_count": null,
   "metadata": {},
   "outputs": [],
   "source": [
    "daily_data_selected.to_csv('./data/dataset_for_model.csv', index=False)"
   ]
  },
  {
   "cell_type": "code",
   "execution_count": 1,
   "metadata": {},
   "outputs": [],
   "source": [
    "import pandas as pd\n",
    "daily_data_selected = pd.read_csv('./data/dataset_for_model.csv')"
   ]
  },
  {
   "cell_type": "code",
   "execution_count": 2,
   "metadata": {},
   "outputs": [],
   "source": [
    "# 选择特征和目标\n",
    "features = daily_data_selected.drop('Next_Open', axis=1)\n",
    "target = daily_data_selected['Next_Open']\n",
    "\n",
    "# normalization\n",
    "from sklearn.preprocessing import MinMaxScaler\n",
    "\n",
    "# Apply the MinMaxScaler to the features and target\n",
    "scaler_features = MinMaxScaler()\n",
    "scaler_target = MinMaxScaler()\n",
    "\n",
    "scaled_features = scaler_features.fit_transform(features)\n",
    "scaled_target = scaler_target.fit_transform(target.values.reshape(-1, 1))\n",
    "\n",
    "# Create new DataFrames with the scaled features and target\n",
    "scaled_features_df = pd.DataFrame(scaled_features, columns=features.columns)\n",
    "scaled_target_df = pd.DataFrame(scaled_target, columns=['Next_Open'])"
   ]
  },
  {
   "cell_type": "code",
   "execution_count": null,
   "metadata": {},
   "outputs": [],
   "source": [
    "scaled_features_df.tail(), scaled_target_df.tail()"
   ]
  },
  {
   "cell_type": "markdown",
   "metadata": {},
   "source": [
    "# Part 2: Stock price prediction"
   ]
  },
  {
   "cell_type": "code",
   "execution_count": 3,
   "metadata": {},
   "outputs": [],
   "source": [
    "import numpy as np\n",
    "import pandas as pd\n",
    "import matplotlib.pyplot as plt\n",
    "import torch\n",
    "import torch.nn as nn\n",
    "import torch.optim as optim\n",
    "from torch.utils.data import DataLoader, TensorDataset\n",
    "from sklearn.model_selection import train_test_split\n",
    "from sklearn.preprocessing import MinMaxScaler\n",
    "from sklearn.metrics import mean_squared_error"
   ]
  },
  {
   "cell_type": "code",
   "execution_count": 4,
   "metadata": {},
   "outputs": [],
   "source": [
    "def create_sequences(features, targets, seq_length):\n",
    "    \"\"\"\n",
    "    Create sequences of specified length from time series data.\n",
    "\n",
    "    Args:\n",
    "    features (np.array): The feature data.\n",
    "    targets (np.array): The target data.\n",
    "    seq_length (int): The length of the sequence.\n",
    "\n",
    "    Returns:\n",
    "    np.array: Sequences of features.\n",
    "    np.array: Corresponding targets for each sequence.\n",
    "    \"\"\"\n",
    "    xs, ys = [], []\n",
    "    for i in range(len(features) - seq_length):\n",
    "        x = features[i:(i + seq_length)]\n",
    "        y = targets[i + seq_length]\n",
    "        xs.append(x)\n",
    "        ys.append(y)\n",
    "    return np.array(xs), np.array(ys)\n",
    "\n",
    "# Example sequence length\n",
    "seq_length = 15\n",
    "\n",
    "# Create sequences\n",
    "features_seq, target_seq = create_sequences(scaled_features, scaled_target, seq_length)\n",
    "\n",
    "# Convert sequences to Tensor\n",
    "features_tensor = torch.tensor(features_seq, dtype=torch.float32)\n",
    "target_tensor = torch.tensor(target_seq, dtype=torch.float32)"
   ]
  },
  {
   "cell_type": "code",
   "execution_count": 5,
   "metadata": {},
   "outputs": [],
   "source": [
    "# 划分训练集、验证集、测试集\n",
    "train_features, test_features, train_target, test_target = train_test_split(\n",
    "    scaled_features, scaled_target, test_size=0.2, random_state=42\n",
    ")\n",
    "\n",
    "val_features, test_features, val_target, test_target = train_test_split(\n",
    "    test_features, test_target, test_size=0.5, random_state=42\n",
    ")\n",
    "\n",
    "# 创建TensorDataset\n",
    "train_dataset = TensorDataset(torch.tensor(train_features, dtype=torch.float32),\n",
    "                              torch.tensor(train_target, dtype=torch.float32))\n",
    "\n",
    "val_dataset = TensorDataset(torch.tensor(val_features, dtype=torch.float32),\n",
    "                            torch.tensor(val_target, dtype=torch.float32))\n",
    "\n",
    "test_dataset = TensorDataset(torch.tensor(test_features, dtype=torch.float32),\n",
    "                             torch.tensor(test_target, dtype=torch.float32))\n",
    "\n",
    "# DataLoader\n",
    "train_loader = DataLoader(train_dataset, batch_size=32, shuffle=True)\n",
    "val_loader = DataLoader(val_dataset, batch_size=32, shuffle=False)\n",
    "test_loader = DataLoader(test_dataset, batch_size=32, shuffle=False)\n"
   ]
  },
  {
   "cell_type": "code",
   "execution_count": 6,
   "metadata": {},
   "outputs": [],
   "source": [
    "class Attention(nn.Module):\n",
    "    def __init__(self, hidden_size):\n",
    "        super(Attention, self).__init__()\n",
    "        self.hidden_size = hidden_size\n",
    "        self.attn = nn.Linear(self.hidden_size, 1)\n",
    "\n",
    "    def forward(self, hidden, encoder_outputs):\n",
    "        attn_weights = torch.tanh(self.attn(encoder_outputs))\n",
    "        return torch.bmm(attn_weights.transpose(1, 2), encoder_outputs).squeeze(1)\n",
    "\n",
    "class AttentionLSTM(nn.Module):\n",
    "    def __init__(self, input_dim, hidden_size, num_layers, output_dim, dropout=0.2):\n",
    "        super(AttentionLSTM, self).__init__()\n",
    "        self.hidden_size = hidden_size\n",
    "\n",
    "        # LSTM层\n",
    "        self.lstm = nn.LSTM(input_dim, hidden_size, num_layers, \n",
    "                            batch_first=True, dropout=dropout if num_layers > 1 else 0)\n",
    "        \n",
    "        # 注意力层\n",
    "        self.attention = Attention(hidden_size)\n",
    "        \n",
    "        # 全连接层\n",
    "        self.fc = nn.Linear(hidden_size, output_dim)\n",
    "\n",
    "    def forward(self, x):\n",
    "        lstm_out, _ = self.lstm(x)\n",
    "        attn_out = self.attention(lstm_out[:, -1, :], lstm_out)\n",
    "        output = self.fc(attn_out)\n",
    "        return output\n",
    "\n",
    "# 注意：只有当您的LSTM有多个层时，Dropout才会被使用。单层LSTM不使用dropout。\n"
   ]
  },
  {
   "cell_type": "code",
   "execution_count": 7,
   "metadata": {},
   "outputs": [],
   "source": [
    "# Hyperparameters\n",
    "input_dim = scaled_features_df.shape[1]  # Number of features\n",
    "hidden_size = 50  # Number of features in hidden state, can be adjusted\n",
    "num_layers = 2    # Number of stacked LSTM layers\n",
    "output_dim = 1    # Number of output dimensions (predicting one value)\n",
    "\n",
    "# 实例化模型时添加Dropout\n",
    "model = AttentionLSTM(input_dim, hidden_size, num_layers, output_dim, dropout=0.2)"
   ]
  },
  {
   "cell_type": "code",
   "execution_count": 8,
   "metadata": {},
   "outputs": [
    {
     "name": "stderr",
     "output_type": "stream",
     "text": [
      "/root/miniconda3/lib/python3.10/site-packages/torch/nn/modules/loss.py:535: UserWarning: Using a target size (torch.Size([32, 1])) that is different to the input size (torch.Size([1, 1])). This will likely lead to incorrect results due to broadcasting. Please ensure they have the same size.\n",
      "  return F.mse_loss(input, target, reduction=self.reduction)\n",
      "/root/miniconda3/lib/python3.10/site-packages/torch/nn/modules/loss.py:535: UserWarning: Using a target size (torch.Size([10, 1])) that is different to the input size (torch.Size([1, 1])). This will likely lead to incorrect results due to broadcasting. Please ensure they have the same size.\n",
      "  return F.mse_loss(input, target, reduction=self.reduction)\n",
      "/root/miniconda3/lib/python3.10/site-packages/torch/nn/modules/loss.py:535: UserWarning: Using a target size (torch.Size([5, 1])) that is different to the input size (torch.Size([1, 1])). This will likely lead to incorrect results due to broadcasting. Please ensure they have the same size.\n",
      "  return F.mse_loss(input, target, reduction=self.reduction)\n"
     ]
    },
    {
     "name": "stdout",
     "output_type": "stream",
     "text": [
      "Epoch 1/30, Loss: 0.09952569752931595\n",
      "Epoch 1, Training Loss: 0.09952569752931595, Validation Loss: 0.04197486055394014\n",
      "Epoch 2/30, Loss: 0.06606841832399368\n",
      "Epoch 2, Training Loss: 0.06606841832399368, Validation Loss: 0.040450056393941246\n",
      "Epoch 3/30, Loss: 0.07239718735218048\n",
      "Epoch 3, Training Loss: 0.07239718735218048, Validation Loss: 0.04030237098534902\n",
      "Epoch 4/30, Loss: 0.13367900252342224\n",
      "Epoch 4, Training Loss: 0.13367900252342224, Validation Loss: 0.040913780530293785\n",
      "Epoch 5/30, Loss: 0.043848007917404175\n",
      "Epoch 5, Training Loss: 0.043848007917404175, Validation Loss: 0.03966225186983744\n",
      "Epoch 6/30, Loss: 0.07844467461109161\n",
      "Epoch 6, Training Loss: 0.07844467461109161, Validation Loss: 0.040114058181643486\n",
      "Epoch 7/30, Loss: 0.1129046306014061\n",
      "Epoch 7, Training Loss: 0.1129046306014061, Validation Loss: 0.03965791935722033\n",
      "Epoch 8/30, Loss: 0.08360250294208527\n",
      "Epoch 8, Training Loss: 0.08360250294208527, Validation Loss: 0.03934336391588052\n",
      "Epoch 9/30, Loss: 0.0746731087565422\n",
      "Epoch 9, Training Loss: 0.0746731087565422, Validation Loss: 0.03966169431805611\n",
      "Epoch 10/30, Loss: 0.17775630950927734\n",
      "Epoch 10, Training Loss: 0.17775630950927734, Validation Loss: 0.03919085736076037\n",
      "Epoch 11/30, Loss: 0.052572738379240036\n",
      "Epoch 11, Training Loss: 0.052572738379240036, Validation Loss: 0.03857075174649557\n",
      "Epoch 12/30, Loss: 0.04180596396327019\n",
      "Epoch 12, Training Loss: 0.04180596396327019, Validation Loss: 0.03966991789638996\n",
      "Epoch 13/30, Loss: 0.12590396404266357\n",
      "Epoch 13, Training Loss: 0.12590396404266357, Validation Loss: 0.03809315711259842\n",
      "Epoch 14/30, Loss: 0.1439467817544937\n",
      "Epoch 14, Training Loss: 0.1439467817544937, Validation Loss: 0.04172705548504988\n",
      "Epoch 15/30, Loss: 0.07694770395755768\n",
      "Epoch 15, Training Loss: 0.07694770395755768, Validation Loss: 0.03782750417788824\n",
      "Epoch 16/30, Loss: 0.06743554770946503\n",
      "Epoch 16, Training Loss: 0.06743554770946503, Validation Loss: 0.037557972595095634\n",
      "Epoch 17/30, Loss: 0.09615008533000946\n",
      "Epoch 17, Training Loss: 0.09615008533000946, Validation Loss: 0.03779837799568971\n",
      "Epoch 18/30, Loss: 0.05883070081472397\n",
      "Epoch 18, Training Loss: 0.05883070081472397, Validation Loss: 0.03720143592605988\n",
      "Epoch 19/30, Loss: 0.10863576829433441\n",
      "Epoch 19, Training Loss: 0.10863576829433441, Validation Loss: 0.03705428789059321\n",
      "Epoch 20/30, Loss: 0.05895821377635002\n",
      "Epoch 20, Training Loss: 0.05895821377635002, Validation Loss: 0.0371244332442681\n",
      "Epoch 21/30, Loss: 0.1628374457359314\n",
      "Epoch 21, Training Loss: 0.1628374457359314, Validation Loss: 0.0367334745824337\n",
      "Epoch 22/30, Loss: 0.07129565626382828\n",
      "Epoch 22, Training Loss: 0.07129565626382828, Validation Loss: 0.03688544935236374\n",
      "Epoch 23/30, Loss: 0.10759583860635757\n",
      "Epoch 23, Training Loss: 0.10759583860635757, Validation Loss: 0.037618263314167656\n",
      "Epoch 24/30, Loss: 0.11668732017278671\n",
      "Epoch 24, Training Loss: 0.11668732017278671, Validation Loss: 0.036260243194798626\n",
      "Epoch 25/30, Loss: 0.14032641053199768\n",
      "Epoch 25, Training Loss: 0.14032641053199768, Validation Loss: 0.03609555959701538\n",
      "Epoch 26/30, Loss: 0.06936059147119522\n",
      "Epoch 26, Training Loss: 0.06936059147119522, Validation Loss: 0.035967668518424034\n",
      "Epoch 27/30, Loss: 0.028803760185837746\n",
      "Epoch 27, Training Loss: 0.028803760185837746, Validation Loss: 0.03592046412328879\n",
      "Epoch 28/30, Loss: 0.03880404680967331\n",
      "Epoch 28, Training Loss: 0.03880404680967331, Validation Loss: 0.035796770825982094\n",
      "Epoch 29/30, Loss: 0.12459804117679596\n",
      "Epoch 29, Training Loss: 0.12459804117679596, Validation Loss: 0.03561509090165297\n",
      "Epoch 30/30, Loss: 0.020763728767633438\n",
      "Epoch 30, Training Loss: 0.020763728767633438, Validation Loss: 0.035688728714982666\n"
     ]
    }
   ],
   "source": [
    "# Define loss function and optimizer\n",
    "criterion = nn.MSELoss()\n",
    "optimizer = optim.Adam(model.parameters(), lr=0.001)\n",
    "\n",
    "# Number of epochs\n",
    "num_epochs = 30  # Can be adjusted\n",
    "\n",
    "# 在训练循环中添加对验证集的检查\n",
    "best_val_loss = float('inf')\n",
    "# Training loop\n",
    "for epoch in range(num_epochs):\n",
    "    model.train()\n",
    "    for inputs, labels in train_loader:\n",
    "        optimizer.zero_grad()\n",
    "        outputs = model(inputs)\n",
    "        loss = criterion(outputs, labels)\n",
    "        loss.backward()\n",
    "        optimizer.step()\n",
    "    \n",
    "    # 在每个epoch结束后评估验证集\n",
    "    val_loss = 0\n",
    "    model.eval()\n",
    "    with torch.no_grad():\n",
    "        for val_inputs, val_labels in val_loader:\n",
    "            val_outputs = model(val_inputs)\n",
    "            val_loss += criterion(val_outputs, val_labels).item()\n",
    "    val_loss /= len(val_loader)\n",
    "    \n",
    "    print(f'Epoch {epoch+1}/{num_epochs}, Loss: {loss.item()}')\n",
    "    print(f'Epoch {epoch+1}, Training Loss: {loss.item()}, Validation Loss: {val_loss}')\n",
    "    \n",
    "    # 检查是否有更低的验证损失\n",
    "    if val_loss < best_val_loss:\n",
    "        best_val_loss = val_loss\n",
    "        torch.save(model.state_dict(), './model/best_model.pth')  # 保存最好的模型"
   ]
  },
  {
   "cell_type": "code",
   "execution_count": 13,
   "metadata": {},
   "outputs": [
    {
     "data": {
      "image/png": "[encoded data removed]",
      "text/plain": [
       "<Figure size 1000x600 with 1 Axes>"
      ]
     },
     "metadata": {},
     "output_type": "display_data"
    }
   ],
   "source": [
    "import matplotlib.dates as mdates\n",
    "\n",
    "# 加载最佳模型\n",
    "model.load_state_dict(torch.load('./model/best_model.pth'))\n",
    "\n",
    "# 提取最后n个数据点\n",
    "test_length = 300\n",
    "last_n = daily_data_selected[-test_length:]\n",
    "\n",
    "# 保存最后n个日期，这将用于绘图\n",
    "last_n_dates = last_n.index\n",
    "\n",
    "# 删除日期和目标列以准备缩放\n",
    "last_n_features = last_n.drop(['Next_Open'], axis=1)\n",
    "last_n_target = last_n['Next_Open']\n",
    "\n",
    "# 缩放特征\n",
    "scaler_features = MinMaxScaler()\n",
    "last_n_scaled_features = scaler_features.fit_transform(last_n_features)\n",
    "\n",
    "# 缩放目标\n",
    "scaler_target = MinMaxScaler()\n",
    "last_n_scaled_target = scaler_target.fit_transform(last_n_target.values.reshape(-1, 1))\n",
    "\n",
    "# 定义窗口长度\n",
    "window_length = seq_length  # 根据您的模型调整\n",
    "\n",
    "# 创建包含所有窗口的数据集\n",
    "batched_windows = []\n",
    "for i in range(test_length - window_length + 1):\n",
    "    window = last_n_scaled_features[i:i + window_length]\n",
    "    batched_windows.append(window)\n",
    "batched_windows = np.array(batched_windows)\n",
    "\n",
    "# 将数据转换为Tensor\n",
    "batched_windows_tensor = torch.tensor(batched_windows, dtype=torch.float32)\n",
    "\n",
    "# 使用模型进行预测\n",
    "model.eval()\n",
    "with torch.no_grad():\n",
    "    batch_predictions = model(batched_windows_tensor).numpy()\n",
    "\n",
    "# 反缩放预测值\n",
    "batch_predictions = scaler_target.inverse_transform(batch_predictions).flatten()\n",
    "\n",
    "# 绘制实际股价和批量预测股价的对比图\n",
    "plt.figure(figsize=(10, 6))\n",
    "plt.plot(last_n_dates[window_length - 1:], last_n_target[window_length - 1:], label='Actual Prices', color='blue')\n",
    "plt.plot(last_n_dates[window_length - 1:], batch_predictions, label='Batch Predicted Prices', color='red')\n",
    "plt.title('Batch Stock Price Prediction')\n",
    "plt.xlabel('Date')\n",
    "plt.ylabel('Price')\n",
    "plt.legend()\n",
    "plt.show()"
   ]
  },
  {
   "cell_type": "code",
   "execution_count": null,
   "metadata": {},
   "outputs": [],
   "source": [
    "# 滑动窗口预测\n",
    "true_predictions = []\n",
    "for i in range(test_length):\n",
    "    if i < window_length:\n",
    "        continue\n",
    "    window = last_n_scaled_features[i-window_length:i]\n",
    "    window_tensor = torch.tensor(window, dtype=torch.float32).unsqueeze(0)\n",
    "    model.eval()\n",
    "    with torch.no_grad():\n",
    "        prediction = model(window_tensor).numpy()\n",
    "    true_prediction = scaler_target.inverse_transform(prediction).flatten()[0]\n",
    "    true_predictions.append(true_prediction)"
   ]
  },
  {
   "cell_type": "code",
   "execution_count": null,
   "metadata": {},
   "outputs": [],
   "source": [
    "# 绘制第一张图\n",
    "plt.figure(figsize=(10, 6))\n",
    "plt.plot(last_n_dates, last_n_target, label='Actual Prices', color='blue')\n",
    "plt.plot(last_n_dates[window_length:], true_predictions, label='Predicted Prices', color='red')\n",
    "plt.title('Sliding Window Prediction')\n",
    "plt.xlabel('Date')\n",
    "plt.ylabel('Price')\n",
    "plt.legend()\n",
    "plt.show()"
   ]
  },
  {
   "cell_type": "code",
   "execution_count": null,
   "metadata": {},
   "outputs": [],
   "source": [
    "# 递归预测\n",
    "recursive_predictions = last_n_scaled_features[-window_length:].tolist()  # 初始窗口\n",
    "for i in range(test_length // 2):\n",
    "    window_tensor = torch.tensor(recursive_predictions[-window_length:], dtype=torch.float32).unsqueeze(0)\n",
    "    model.eval()\n",
    "    with torch.no_grad():\n",
    "        prediction = model(window_tensor).numpy()\n",
    "    recursive_predictions.append(prediction[0])\n",
    "\n",
    "# 反缩放递归预测\n",
    "recursive_predictions = scaler_target.inverse_transform(np.array(recursive_predictions).reshape(-1, 1)).flatten()\n",
    "\n",
    "# 绘制第二张图\n",
    "plt.figure(figsize=(10, 6))\n",
    "plt.plot(last_n_dates, last_n_target, label='Actual Prices', color='blue')\n",
    "plt.plot(last_n_dates, recursive_predictions[:test_length], label='Recursive Predicted Prices', color='red')\n",
    "plt.title('Recursive Prediction')\n",
    "plt.xlabel('Date')\n",
    "plt.ylabel('Price')\n",
    "plt.legend()\n",
    "plt.show()\n"
   ]
  },
  {
   "cell_type": "code",
   "execution_count": null,
   "metadata": {},
   "outputs": [],
   "source": [
    "# 假设您的模型已经被训练并准备好进行预测\n",
    "# 我们将使用最后一个时间窗口的数据来预测接下来的n个时间点\n",
    "# 为此，我们需要从数据集的末尾向前回溯一个窗口长度的数据点\n",
    "\n",
    "# 定义窗口长度\n",
    "window_length = 15  # 与您模型训练时使用的序列长度一致\n",
    "\n",
    "# 预测未来n个时间点的函数\n",
    "def predict_next_n(model, last_window_data, num_predictions=n):\n",
    "    model.eval()  # Set the model to evaluation mode\n",
    "    predictions = []\n",
    "    current_window = last_window_data\n",
    "    \n",
    "    with torch.no_grad():\n",
    "        for _ in range(num_predictions):\n",
    "            # 使用当前窗口数据进行预测\n",
    "            current_window_tensor = torch.tensor(current_window, dtype=torch.float32).unsqueeze(0)  # 增加batch维度\n",
    "            prediction = model(current_window_tensor)\n",
    "            prediction = prediction.numpy().flatten()[0]  # 将预测结果转换为numpy并提取数值\n",
    "            predictions.append(prediction)\n",
    "            \n",
    "            # 更新窗口数据：移除最早的点，加入最新预测\n",
    "            current_window = np.roll(current_window, -1)\n",
    "            current_window[-1] = prediction  # 这里假设您的目标是最后一个特征\n",
    "\n",
    "    return predictions\n",
    "\n",
    "# 获取最后一个时间窗口的数据\n",
    "last_window_data = last_n_scaled_features[-window_length:]\n",
    "\n",
    "# 预测下一个n个时间点\n",
    "next_n_predictions_scaled = predict_next_n(model, last_window_data)\n",
    "\n",
    "# 反缩放预测值\n",
    "next_n_predictions = scaler_target.inverse_transform(np.array(next_n_predictions_scaled).reshape(-1, 1))\n",
    "\n",
    "# 现在您有了未来n个时间点的预测，可以与实际数据进行比较\n"
   ]
  }
 ],
 "metadata": {
  "kernelspec": {
   "display_name": "base",
   "language": "python",
   "name": "python3"
  },
  "language_info": {
   "codemirror_mode": {
    "name": "ipython",
    "version": 3
   },
   "file_extension": ".py",
   "mimetype": "text/x-python",
   "name": "python",
   "nbconvert_exporter": "python",
   "pygments_lexer": "ipython3",
   "version": "3.10.8"
  }
 },
 "nbformat": 4,
 "nbformat_minor": 2
}
