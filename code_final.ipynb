{
 "cells": [
  {
   "cell_type": "markdown",
   "metadata": {},
   "source": [
    "# Part 1: Sentiment Analysis"
   ]
  },
  {
   "cell_type": "code",
   "execution_count": null,
   "metadata": {},
   "outputs": [],
   "source": [
    "import pandas as pd\n",
    "\n",
    "# Load the CSV file\n",
    "file_path = './data/NEWS_YAHOO_stock_prediction.csv'\n",
    "data = pd.read_csv(file_path)\n",
    "\n",
    "# Display the first few rows of the dataframe\n",
    "data.head()"
   ]
  },
  {
   "cell_type": "code",
   "execution_count": null,
   "metadata": {},
   "outputs": [],
   "source": [
    "data[['Date', 'category', 'content']].head(10)\n"
   ]
  },
  {
   "cell_type": "code",
   "execution_count": null,
   "metadata": {},
   "outputs": [],
   "source": [
    "# Step 1: Remove unnecessary column\n",
    "data.drop(columns=['Unnamed: 0'], inplace=True)\n",
    "\n",
    "# Step 2: Remove duplicate texts\n",
    "data.drop_duplicates(subset=['title', 'content'], inplace=True)\n",
    "\n",
    "# Step 3: Remove rows with large amount of spaces or empty texts in 'title' and 'content'\n",
    "data = data[~data['title'].str.isspace()]\n",
    "data = data[~data['content'].str.isspace()]\n",
    "data.dropna(subset=['title', 'content'], inplace=True)\n",
    "\n",
    "# Check the dataframe after these preprocessing steps\n",
    "data.info()\n",
    "\n",
    "# Step 5: Check for invalid numeric data\n",
    "numeric_columns = ['Open', 'High', 'Low', 'Close', 'Adj Close', 'Volume']\n",
    "data[numeric_columns].describe()\n"
   ]
  },
  {
   "cell_type": "code",
   "execution_count": null,
   "metadata": {},
   "outputs": [],
   "source": [
    "# (optional) set proxy\n",
    "import subprocess\n",
    "import os\n",
    "\n",
    "result = subprocess.run('bash -c \"source ~/clash_dir/set && env | grep proxy\"', shell=True, capture_output=True, text=True)\n",
    "output = result.stdout\n",
    "output\n",
    "for line in output.splitlines():\n",
    "    if '=' in line:\n",
    "        var, value = line.split('=', 1)\n",
    "        os.environ[var] = value"
   ]
  },
  {
   "cell_type": "code",
   "execution_count": null,
   "metadata": {},
   "outputs": [],
   "source": [
    "from transformers import BertTokenizer, BertForSequenceClassification\n",
    "from transformers import pipeline\n",
    "\n",
    "# Load the FinBERT model and tokenizer\n",
    "checkpoint = 'yiyanghkust/finbert-tone'\n",
    "tokenizer = BertTokenizer.from_pretrained(checkpoint)\n",
    "model = BertForSequenceClassification.from_pretrained(checkpoint, num_labels=3)\n",
    "\n",
    "# Create a pipeline for sentiment analysis\n",
    "nlp = pipeline(\"sentiment-analysis\", model=model, tokenizer=tokenizer, max_length=512, truncation=True, device=0)"
   ]
  },
  {
   "cell_type": "code",
   "execution_count": null,
   "metadata": {},
   "outputs": [],
   "source": [
    "# Function to apply sentiment analysis to a dataframe\n",
    "def apply_sentiment_analysis(df, nlp, text_column='content'):\n",
    "    \"\"\"\n",
    "    Apply sentiment analysis to a column in a dataframe.\n",
    "    \n",
    "    Args:\n",
    "    df (pd.DataFrame): Dataframe containing the text data.\n",
    "    nlp (pipeline): HuggingFace pipeline for sentiment analysis.\n",
    "    text_column (str): Name of the column containing text data.\n",
    "\n",
    "    Returns:\n",
    "    pd.DataFrame: Dataframe with a new column 'sentiment' containing the analysis results.\n",
    "    \"\"\"\n",
    "    # Apply sentiment analysis to each row in the text column\n",
    "    sentiments = []\n",
    "    for text in df[text_column]:\n",
    "        try:\n",
    "            result = nlp(text)\n",
    "            sentiments.append(result[0]['label'])\n",
    "        except Exception as e:\n",
    "            print(f\"Error in processing text: {e}\")\n",
    "            sentiments.append('Error')\n",
    "\n",
    "    # Add the sentiments as a new column in the dataframe\n",
    "    df['sentiment'] = sentiments\n",
    "    return df\n"
   ]
  },
  {
   "cell_type": "code",
   "execution_count": null,
   "metadata": {},
   "outputs": [],
   "source": [
    "from tqdm.auto import tqdm\n",
    "import numpy as np\n",
    "from concurrent.futures import ThreadPoolExecutor\n",
    "\n",
    "def apply_sentiment_analysis_parallel(df, nlp, text_column='content', batch_size=10):\n",
    "    \"\"\"\n",
    "    Apply sentiment analysis in parallel to a column in a dataframe.\n",
    "\n",
    "    Args:\n",
    "    df (pd.DataFrame): Dataframe containing the text data.\n",
    "    nlp (pipeline): HuggingFace pipeline for sentiment analysis.\n",
    "    text_column (str): Name of the column containing text data.\n",
    "    batch_size (int): Number of texts to process in parallel.\n",
    "\n",
    "    Returns:\n",
    "    pd.DataFrame: Dataframe with a new column 'sentiment' containing the analysis results.\n",
    "    \"\"\"\n",
    "    # Define a function to process a batch of texts\n",
    "    def process_batch(texts):\n",
    "        return [nlp(text)[0]['label'] for text in texts]\n",
    "\n",
    "    # Break the texts into batches\n",
    "    batches = [df[text_column][i:i + batch_size] for i in range(0, len(df), batch_size)]\n",
    "\n",
    "    # Process batches in parallel\n",
    "    sentiments = []\n",
    "    with ThreadPoolExecutor() as executor:\n",
    "        for batch_result in tqdm(executor.map(process_batch, batches), total=len(batches)):\n",
    "            sentiments.extend(batch_result)\n",
    "\n",
    "    # Add the sentiments as a new column in the dataframe\n",
    "    df['sentiment'] = sentiments\n",
    "    return df\n"
   ]
  },
  {
   "cell_type": "code",
   "execution_count": null,
   "metadata": {},
   "outputs": [],
   "source": [
    "# Example usage of the function\n",
    "# Note: You will run this on your local machine as it requires GPU support\n",
    "sample_texts = [\"I've been waiting for a HuggingFace course my whole life.\", \"So have I!\"]\n",
    "sample_df = pd.DataFrame(sample_texts, columns=['content'])\n",
    "apply_sentiment_analysis(sample_df, nlp)"
   ]
  },
  {
   "cell_type": "code",
   "execution_count": null,
   "metadata": {},
   "outputs": [],
   "source": [
    "# Assuming the apply_sentiment_analysis function is defined as shown previously\n",
    "\n",
    "# Step 1: Apply sentiment analysis to the dataset\n",
    "# This step should be done on your local machine due to the requirement of GPU support\n",
    "data = apply_sentiment_analysis_parallel(data, nlp)\n",
    "\n",
    "# Step 2: Prepare data for the prediction model\n",
    "# Here we'll assume the sentiment analysis has been applied and 'sentiment' column is added to the data\n",
    "\n",
    "# We might want to convert sentiments to numerical values for model training\n",
    "sentiment_mapping = {'Positive': 1, 'Neutral': 0, 'Negative': -1}\n",
    "data['sentiment_numeric'] = data['sentiment'].map(sentiment_mapping)"
   ]
  },
  {
   "cell_type": "code",
   "execution_count": null,
   "metadata": {},
   "outputs": [],
   "source": [
    "# Example code to save the processed DataFrame to a CSV file\n",
    "data.to_csv('./data/dataset_with_sentiment.csv', index=False)\n"
   ]
  },
  {
   "cell_type": "code",
   "execution_count": null,
   "metadata": {},
   "outputs": [],
   "source": [
    "# Adjust display settings for better visualization of samples\n",
    "pd.set_option('display.max_colwidth', 200)  # Adjust the width to fit longer texts\n",
    "\n",
    "# Display some random samples with formatted output\n",
    "sample_data = data.sample(n=10)[['content', 'sentiment']]\n",
    "\n",
    "# Print each sample in a more readable format\n",
    "for index, row in sample_data.iterrows():\n",
    "    print(f\"Sample {index}:\")\n",
    "    print(f\"Content: {row['content']}\")\n",
    "    print(f\"Sentiment: {row['sentiment']}\\n\")\n"
   ]
  },
  {
   "cell_type": "code",
   "execution_count": null,
   "metadata": {},
   "outputs": [],
   "source": [
    "# Assuming 'data' is your DataFrame with 'sentiment' and 'label' columns\n",
    "# Calculate the proportion of each sentiment category\n",
    "sentiment_counts = data['sentiment'].value_counts(normalize=True) * 100\n",
    "\n",
    "# Calculate the proportion of each label\n",
    "label_counts = data['label'].value_counts(normalize=True) * 100\n",
    "\n",
    "# Print the results\n",
    "print(\"Sentiment Distribution (%):\")\n",
    "print(sentiment_counts)\n",
    "print(\"\\nLabel Distribution (%):\")\n",
    "print(label_counts)\n",
    "\n",
    "# For additional insights, we can also look at the cross-tabulation of sentiment and label\n",
    "crosstab = pd.crosstab(data['sentiment'], data['label'], normalize='index') * 100\n",
    "print(\"\\nCross-Tabulation of Sentiment and Label (%):\")\n",
    "print(crosstab)"
   ]
  },
  {
   "cell_type": "code",
   "execution_count": null,
   "metadata": {},
   "outputs": [],
   "source": [
    "# read for existed csv\n",
    "import pandas as pd\n",
    "data = pd.read_csv('./data/dataset_with_sentiment.csv')\n",
    "\n",
    "# Convert the 'Date' column to datetime format and sort the dataframe by 'Date'\n",
    "data['Date'] = pd.to_datetime(data['Date'])\n",
    "data_sorted = data.sort_values(by='Date')"
   ]
  },
  {
   "cell_type": "code",
   "execution_count": null,
   "metadata": {},
   "outputs": [],
   "source": [
    "# 按 'Date' 和 'sentiment' 分组，然后计算每个类别的 category 为news和opinion的数量\n",
    "category_news_per_day_sentiment = data_sorted[data_sorted['category'] == 'news'].groupby(['Date', 'sentiment']).size().unstack().fillna(0)\n",
    "category_opinion_per_day_sentiment = data_sorted[data_sorted['category'] == 'opinion'].groupby(['Date', 'sentiment']).size().unstack().fillna(0)\n",
    "# 分别计算news和opinion的total\n",
    "category_news_total_per_day_sentiment = data_sorted[data_sorted['category'] == 'news'].groupby(['Date']).size()\n",
    "category_opinion_total_per_day_sentiment = data_sorted[data_sorted['category'] == 'opinion'].groupby(['Date']).size()\n",
    "\n",
    "data_sorted = data_sorted.set_index('Date')\n",
    "data_sorted['P_news_pos'] = category_news_per_day_sentiment['Positive'].reindex(data_sorted.index) / category_news_total_per_day_sentiment.reindex(data_sorted.index)\n",
    "data_sorted['P_news_neg'] = category_news_per_day_sentiment['Negative'].reindex(data_sorted.index) / category_news_total_per_day_sentiment.reindex(data_sorted.index)\n",
    "data_sorted['P_op_pos'] = category_opinion_per_day_sentiment['Positive'].reindex(data_sorted.index) / category_opinion_total_per_day_sentiment.reindex(data_sorted.index)\n",
    "data_sorted['P_op_neg'] = category_opinion_per_day_sentiment['Negative'].reindex(data_sorted.index) / category_opinion_total_per_day_sentiment.reindex(data_sorted.index)\n",
    "data_sorted = data_sorted.reset_index()"
   ]
  },
  {
   "cell_type": "code",
   "execution_count": null,
   "metadata": {},
   "outputs": [],
   "source": [
    "daily_data = data_sorted.groupby('Date').last()\n",
    "\n",
    "# Shift the 'Open' column to get the next day's opening price\n",
    "daily_data['Next_Open'] = daily_data['Open'].shift(-1)\n",
    "\n",
    "# Drop the last row as it will not have a 'Next_Open' value\n",
    "daily_data = daily_data[:-1]"
   ]
  },
  {
   "cell_type": "code",
   "execution_count": null,
   "metadata": {},
   "outputs": [],
   "source": [
    "date_to_query = pd.to_datetime('2016-10-28')\n",
    "daily_data.loc[(date_to_query)]"
   ]
  },
  {
   "cell_type": "code",
   "execution_count": null,
   "metadata": {},
   "outputs": [],
   "source": [
    "date_to_query = pd.to_datetime('2016-10-28')\n",
    "data_sorted.loc[data_sorted['Date'] == date_to_query]"
   ]
  },
  {
   "cell_type": "code",
   "execution_count": null,
   "metadata": {},
   "outputs": [],
   "source": [
    "date_to_query = pd.to_datetime('2020-01-23')\n",
    "daily_data.loc[(date_to_query)]"
   ]
  },
  {
   "cell_type": "code",
   "execution_count": null,
   "metadata": {},
   "outputs": [],
   "source": [
    "date_to_query = pd.to_datetime('2018-05-06')\n",
    "category_to_query = 'news'\n",
    "data_sorted.loc[(data_sorted['Date'] == date_to_query) & (data_sorted['category'] == category_to_query)]"
   ]
  },
  {
   "cell_type": "code",
   "execution_count": null,
   "metadata": {},
   "outputs": [],
   "source": [
    "daily_data['P_news_neg'].fillna(0, inplace=True)\n",
    "daily_data['P_news_pos'].fillna(0, inplace=True)\n",
    "daily_data['P_op_neg'].fillna(0, inplace=True)\n",
    "daily_data['P_op_pos'].fillna(0, inplace=True)"
   ]
  },
  {
   "cell_type": "code",
   "execution_count": null,
   "metadata": {},
   "outputs": [],
   "source": [
    "import pandas as pd\n",
    "import matplotlib.pyplot as plt\n",
    "\n",
    "# Read the dataset into a Pandas DataFrame\n",
    "historical_data = pd.read_csv('data/AAPL_Yahoo_Correct.csv')\n",
    "\n",
    "# Convert the 'Date' column to datetime format\n",
    "historical_data['Date'] = pd.to_datetime(historical_data['Date'])\n",
    "\n",
    "# Plotting the 'Open' price against the 'Date'\n",
    "plt.figure(figsize=(10, 5))\n",
    "plt.plot(historical_data['Date'], historical_data['Open'], label='AAPL Open Price')\n",
    "plt.xlabel('Date')\n",
    "plt.ylabel('Open Price ($)')\n",
    "plt.title('AAPL Stock Open Price Over Time')\n",
    "plt.legend()\n",
    "plt.show()\n"
   ]
  },
  {
   "cell_type": "code",
   "execution_count": null,
   "metadata": {},
   "outputs": [],
   "source": [
    "# 按照Date将historical_data的全部列和daily_data的这四个P_开头的列合并。如果出现有些天在daily_data中不存在，则四个P_开头的列在这一天都置为0。\n",
    "daily_data_merged = pd.merge(historical_data, daily_data[['P_news_neg', 'P_news_pos', 'P_op_neg', 'P_op_pos']], left_on='Date', right_index=True, how='left')\n",
    "daily_data_merged[['P_news_neg', 'P_news_pos', 'P_op_neg', 'P_op_pos']] = daily_data_merged[['P_news_neg', 'P_news_pos', 'P_op_neg', 'P_op_pos']].fillna(0)"
   ]
  },
  {
   "cell_type": "code",
   "execution_count": null,
   "metadata": {},
   "outputs": [],
   "source": [
    "plt.figure(figsize=(10, 5))\n",
    "plt.plot(daily_data_merged['Date'], daily_data_merged['Open'], label='AAPL Open Price')\n",
    "plt.xlabel('Date')\n",
    "plt.ylabel('Open Price ($)')\n",
    "plt.title('AAPL Stock Open Price Over Time')\n",
    "plt.legend()\n",
    "plt.show()"
   ]
  },
  {
   "cell_type": "code",
   "execution_count": null,
   "metadata": {},
   "outputs": [],
   "source": [
    "daily_data_merged.to_csv('./data/dataset_FinBERT.csv')"
   ]
  },
  {
   "cell_type": "markdown",
   "metadata": {},
   "source": [
    "# Part 1.1: VADER Sentiment Analysis"
   ]
  },
  {
   "cell_type": "code",
   "execution_count": 1,
   "metadata": {},
   "outputs": [
    {
     "data": {
      "image/png": "[encoded data removed]",
      "text/plain": [
       "<Figure size 1000x500 with 1 Axes>"
      ]
     },
     "metadata": {},
     "output_type": "display_data"
    }
   ],
   "source": [
    "import pandas as pd\n",
    "import matplotlib.pyplot as plt\n",
    "\n",
    "# Read the dataset into a Pandas DataFrame\n",
    "historical_data = pd.read_csv('data/AAPL_Yahoo_Correct.csv')\n",
    "\n",
    "# Convert the 'Date' column to datetime format\n",
    "historical_data['Date'] = pd.to_datetime(historical_data['Date'])\n",
    "\n",
    "# Plotting the 'Open' price against the 'Date'\n",
    "plt.figure(figsize=(10, 5))\n",
    "plt.plot(historical_data['Date'], historical_data['Open'], label='AAPL Open Price')\n",
    "plt.xlabel('Date')\n",
    "plt.ylabel('Open Price ($)')\n",
    "plt.title('AAPL Stock Open Price Over Time')\n",
    "plt.legend()\n",
    "plt.show()"
   ]
  },
  {
   "cell_type": "code",
   "execution_count": 2,
   "metadata": {},
   "outputs": [],
   "source": [
    "# read VADER results from csv\n",
    "# vader_daily_results = pd.read_csv('./data/VADER_results.csv')\n",
    "# vader_daily_results = pd.read_csv('./data/combined_data_mean5.csv')\n",
    "# vader_daily_results = pd.read_csv('./data/combined_data_mean_first512.csv')\n",
    "vader_daily_results = pd.read_csv('./data/proportion_data.csv')"
   ]
  },
  {
   "cell_type": "code",
   "execution_count": 3,
   "metadata": {},
   "outputs": [],
   "source": [
    "vader_daily_results['Date'] = pd.to_datetime(vader_daily_results['Date'])\n",
    "vader_daily_results = vader_daily_results[['Date', 'news_neg', 'news_pos', 'opinion_neg', 'opinion_pos']]\n",
    "vader_daily_results.columns = ['Date', 'P_news_neg', 'P_news_pos', 'P_op_neg', 'P_op_pos']\n",
    "vader_daily_results.set_index('Date', inplace=True)\n",
    "\n",
    "daily_data_merged = pd.merge(historical_data, vader_daily_results[['P_news_neg', 'P_news_pos', 'P_op_neg', 'P_op_pos']], left_on='Date', right_index=True, how='left')\n",
    "daily_data_merged[['P_news_neg', 'P_news_pos', 'P_op_neg', 'P_op_pos']] = daily_data_merged[['P_news_neg', 'P_news_pos', 'P_op_neg', 'P_op_pos']].fillna(0)"
   ]
  },
  {
   "cell_type": "code",
   "execution_count": 4,
   "metadata": {},
   "outputs": [
    {
     "data": {
      "text/html": [
       "<div>\n",
       "<style scoped>\n",
       "    .dataframe tbody tr th:only-of-type {\n",
       "        vertical-align: middle;\n",
       "    }\n",
       "\n",
       "    .dataframe tbody tr th {\n",
       "        vertical-align: top;\n",
       "    }\n",
       "\n",
       "    .dataframe thead th {\n",
       "        text-align: right;\n",
       "    }\n",
       "</style>\n",
       "<table border=\"1\" class=\"dataframe\">\n",
       "  <thead>\n",
       "    <tr style=\"text-align: right;\">\n",
       "      <th></th>\n",
       "      <th>Date</th>\n",
       "      <th>Open</th>\n",
       "      <th>High</th>\n",
       "      <th>Low</th>\n",
       "      <th>Close</th>\n",
       "      <th>Adj Close</th>\n",
       "      <th>Volume</th>\n",
       "      <th>P_news_neg</th>\n",
       "      <th>P_news_pos</th>\n",
       "      <th>P_op_neg</th>\n",
       "      <th>P_op_pos</th>\n",
       "    </tr>\n",
       "  </thead>\n",
       "  <tbody>\n",
       "    <tr>\n",
       "      <th>0</th>\n",
       "      <td>2012-07-23</td>\n",
       "      <td>21.228571</td>\n",
       "      <td>21.639286</td>\n",
       "      <td>20.989643</td>\n",
       "      <td>21.565357</td>\n",
       "      <td>18.280512</td>\n",
       "      <td>487975600</td>\n",
       "      <td>0.329094</td>\n",
       "      <td>0.670906</td>\n",
       "      <td>0.329094</td>\n",
       "      <td>0.670906</td>\n",
       "    </tr>\n",
       "    <tr>\n",
       "      <th>1</th>\n",
       "      <td>2012-07-24</td>\n",
       "      <td>21.692142</td>\n",
       "      <td>21.774286</td>\n",
       "      <td>21.375357</td>\n",
       "      <td>21.461430</td>\n",
       "      <td>18.192419</td>\n",
       "      <td>565132400</td>\n",
       "      <td>0.406780</td>\n",
       "      <td>0.593220</td>\n",
       "      <td>0.406780</td>\n",
       "      <td>0.593220</td>\n",
       "    </tr>\n",
       "    <tr>\n",
       "      <th>2</th>\n",
       "      <td>2012-07-25</td>\n",
       "      <td>20.516430</td>\n",
       "      <td>20.742857</td>\n",
       "      <td>20.357143</td>\n",
       "      <td>20.534643</td>\n",
       "      <td>17.406801</td>\n",
       "      <td>877312800</td>\n",
       "      <td>0.000000</td>\n",
       "      <td>0.000000</td>\n",
       "      <td>0.000000</td>\n",
       "      <td>0.000000</td>\n",
       "    </tr>\n",
       "    <tr>\n",
       "      <th>3</th>\n",
       "      <td>2012-07-26</td>\n",
       "      <td>20.705713</td>\n",
       "      <td>20.728571</td>\n",
       "      <td>20.370001</td>\n",
       "      <td>20.531429</td>\n",
       "      <td>17.404078</td>\n",
       "      <td>406632800</td>\n",
       "      <td>0.000000</td>\n",
       "      <td>0.000000</td>\n",
       "      <td>0.000000</td>\n",
       "      <td>0.000000</td>\n",
       "    </tr>\n",
       "    <tr>\n",
       "      <th>4</th>\n",
       "      <td>2012-07-27</td>\n",
       "      <td>20.536072</td>\n",
       "      <td>20.922501</td>\n",
       "      <td>20.413929</td>\n",
       "      <td>20.898571</td>\n",
       "      <td>17.715296</td>\n",
       "      <td>403936400</td>\n",
       "      <td>0.396985</td>\n",
       "      <td>0.603015</td>\n",
       "      <td>0.396985</td>\n",
       "      <td>0.603015</td>\n",
       "    </tr>\n",
       "    <tr>\n",
       "      <th>5</th>\n",
       "      <td>2012-07-30</td>\n",
       "      <td>21.104286</td>\n",
       "      <td>21.408571</td>\n",
       "      <td>20.993570</td>\n",
       "      <td>21.251072</td>\n",
       "      <td>18.014109</td>\n",
       "      <td>379142400</td>\n",
       "      <td>0.490066</td>\n",
       "      <td>0.509934</td>\n",
       "      <td>0.490066</td>\n",
       "      <td>0.509934</td>\n",
       "    </tr>\n",
       "    <tr>\n",
       "      <th>6</th>\n",
       "      <td>2012-07-31</td>\n",
       "      <td>21.543928</td>\n",
       "      <td>21.846430</td>\n",
       "      <td>21.525715</td>\n",
       "      <td>21.812857</td>\n",
       "      <td>18.490314</td>\n",
       "      <td>462327600</td>\n",
       "      <td>0.292683</td>\n",
       "      <td>0.707317</td>\n",
       "      <td>0.292683</td>\n",
       "      <td>0.707317</td>\n",
       "    </tr>\n",
       "    <tr>\n",
       "      <th>7</th>\n",
       "      <td>2012-08-01</td>\n",
       "      <td>21.996786</td>\n",
       "      <td>22.014286</td>\n",
       "      <td>21.535713</td>\n",
       "      <td>21.671785</td>\n",
       "      <td>18.370731</td>\n",
       "      <td>384501600</td>\n",
       "      <td>0.000000</td>\n",
       "      <td>0.000000</td>\n",
       "      <td>0.000000</td>\n",
       "      <td>0.000000</td>\n",
       "    </tr>\n",
       "    <tr>\n",
       "      <th>8</th>\n",
       "      <td>2012-08-02</td>\n",
       "      <td>21.530001</td>\n",
       "      <td>21.810356</td>\n",
       "      <td>21.437500</td>\n",
       "      <td>21.706785</td>\n",
       "      <td>18.400402</td>\n",
       "      <td>332158400</td>\n",
       "      <td>0.000000</td>\n",
       "      <td>0.000000</td>\n",
       "      <td>0.000000</td>\n",
       "      <td>0.000000</td>\n",
       "    </tr>\n",
       "    <tr>\n",
       "      <th>9</th>\n",
       "      <td>2012-08-03</td>\n",
       "      <td>21.915358</td>\n",
       "      <td>22.070715</td>\n",
       "      <td>21.841429</td>\n",
       "      <td>21.989286</td>\n",
       "      <td>18.639874</td>\n",
       "      <td>344920800</td>\n",
       "      <td>0.000000</td>\n",
       "      <td>0.000000</td>\n",
       "      <td>0.000000</td>\n",
       "      <td>0.000000</td>\n",
       "    </tr>\n",
       "  </tbody>\n",
       "</table>\n",
       "</div>"
      ],
      "text/plain": [
       "        Date       Open       High        Low      Close  Adj Close  \\\n",
       "0 2012-07-23  21.228571  21.639286  20.989643  21.565357  18.280512   \n",
       "1 2012-07-24  21.692142  21.774286  21.375357  21.461430  18.192419   \n",
       "2 2012-07-25  20.516430  20.742857  20.357143  20.534643  17.406801   \n",
       "3 2012-07-26  20.705713  20.728571  20.370001  20.531429  17.404078   \n",
       "4 2012-07-27  20.536072  20.922501  20.413929  20.898571  17.715296   \n",
       "5 2012-07-30  21.104286  21.408571  20.993570  21.251072  18.014109   \n",
       "6 2012-07-31  21.543928  21.846430  21.525715  21.812857  18.490314   \n",
       "7 2012-08-01  21.996786  22.014286  21.535713  21.671785  18.370731   \n",
       "8 2012-08-02  21.530001  21.810356  21.437500  21.706785  18.400402   \n",
       "9 2012-08-03  21.915358  22.070715  21.841429  21.989286  18.639874   \n",
       "\n",
       "      Volume  P_news_neg  P_news_pos  P_op_neg  P_op_pos  \n",
       "0  487975600    0.329094    0.670906  0.329094  0.670906  \n",
       "1  565132400    0.406780    0.593220  0.406780  0.593220  \n",
       "2  877312800    0.000000    0.000000  0.000000  0.000000  \n",
       "3  406632800    0.000000    0.000000  0.000000  0.000000  \n",
       "4  403936400    0.396985    0.603015  0.396985  0.603015  \n",
       "5  379142400    0.490066    0.509934  0.490066  0.509934  \n",
       "6  462327600    0.292683    0.707317  0.292683  0.707317  \n",
       "7  384501600    0.000000    0.000000  0.000000  0.000000  \n",
       "8  332158400    0.000000    0.000000  0.000000  0.000000  \n",
       "9  344920800    0.000000    0.000000  0.000000  0.000000  "
      ]
     },
     "execution_count": 4,
     "metadata": {},
     "output_type": "execute_result"
    }
   ],
   "source": [
    "daily_data_merged.head(10)"
   ]
  },
  {
   "cell_type": "code",
   "execution_count": 5,
   "metadata": {},
   "outputs": [],
   "source": [
    "daily_data_merged.to_csv('./data/dataset_VADER.csv')"
   ]
  },
  {
   "cell_type": "markdown",
   "metadata": {},
   "source": [
    "# Part 2: Stock price prediction"
   ]
  },
  {
   "cell_type": "code",
   "execution_count": 85,
   "metadata": {},
   "outputs": [],
   "source": [
    "import pandas as pd\n",
    "# FinBERT\n",
    "daily_data_merged = pd.read_csv('./data/dataset_FinBERT.csv', index_col=0)\n",
    "# VADER\n",
    "# daily_data_merged = pd.read_csv('./data/dataset_VADER.csv', index_col=0)"
   ]
  },
  {
   "cell_type": "markdown",
   "metadata": {},
   "source": [
    "- Showing sentiment analysis results"
   ]
  },
  {
   "cell_type": "code",
   "execution_count": 86,
   "metadata": {},
   "outputs": [
    {
     "data": {
      "image/png": "[encoded data removed]",
      "text/plain": [
       "<Figure size 1000x500 with 2 Axes>"
      ]
     },
     "metadata": {},
     "output_type": "display_data"
    },
    {
     "data": {
      "image/png": "[encoded data removed]",
      "text/plain": [
       "<Figure size 1000x500 with 2 Axes>"
      ]
     },
     "metadata": {},
     "output_type": "display_data"
    }
   ],
   "source": [
    "daily_sentiment_results = daily_data_merged[['Date', 'P_news_pos', 'P_news_neg', 'P_op_pos', 'P_op_neg']]\n",
    "import seaborn as sns\n",
    "import matplotlib.pyplot as plt\n",
    "\n",
    "# Split the data into two parts: news sentiment analysis results and opinion sentiment analysis results\n",
    "news_sentiment_results = daily_sentiment_results[['Date', 'P_news_pos', 'P_news_neg']]\n",
    "opinion_sentiment_results = daily_sentiment_results[['Date', 'P_op_pos', 'P_op_neg']]\n",
    "\n",
    "# Ensure 'Date' is in news_sentiment_results and opinion_sentiment_results\n",
    "assert 'Date' in news_sentiment_results.columns\n",
    "assert 'Date' in opinion_sentiment_results.columns\n",
    "\n",
    "# Set 'Date' column as index\n",
    "news_sentiment_results.set_index('Date', inplace=True)\n",
    "opinion_sentiment_results.set_index('Date', inplace=True)\n",
    "\n",
    "# Draw a heatmap for news sentiment analysis results\n",
    "plt.figure(figsize=(10, 5))\n",
    "plt.title('News Sentiment Analysis Results')\n",
    "sns.heatmap(news_sentiment_results.tail(5), annot=True, cmap='YlGnBu', fmt=\".3f\")\n",
    "plt.show()\n",
    "\n",
    "# Draw a heatmap for opinion sentiment analysis results\n",
    "plt.figure(figsize=(10, 5))\n",
    "plt.title('Opinion Sentiment Analysis Results')\n",
    "sns.heatmap(opinion_sentiment_results.tail(5), annot=True, cmap='YlGnBu', fmt=\".3f\")\n",
    "plt.show()\n"
   ]
  },
  {
   "cell_type": "code",
   "execution_count": 87,
   "metadata": {},
   "outputs": [
    {
     "data": {
      "text/html": [
       "<div>\n",
       "<style scoped>\n",
       "    .dataframe tbody tr th:only-of-type {\n",
       "        vertical-align: middle;\n",
       "    }\n",
       "\n",
       "    .dataframe tbody tr th {\n",
       "        vertical-align: top;\n",
       "    }\n",
       "\n",
       "    .dataframe thead th {\n",
       "        text-align: right;\n",
       "    }\n",
       "</style>\n",
       "<table border=\"1\" class=\"dataframe\">\n",
       "  <thead>\n",
       "    <tr style=\"text-align: right;\">\n",
       "      <th></th>\n",
       "      <th>Open</th>\n",
       "      <th>High</th>\n",
       "      <th>Low</th>\n",
       "      <th>Close</th>\n",
       "      <th>Adj Close</th>\n",
       "      <th>Volume</th>\n",
       "      <th>P_news_neg</th>\n",
       "      <th>P_news_pos</th>\n",
       "      <th>P_op_neg</th>\n",
       "      <th>P_op_pos</th>\n",
       "    </tr>\n",
       "  </thead>\n",
       "  <tbody>\n",
       "    <tr>\n",
       "      <th>1884</th>\n",
       "      <td>79.067497</td>\n",
       "      <td>79.684998</td>\n",
       "      <td>78.750000</td>\n",
       "      <td>79.682503</td>\n",
       "      <td>77.629234</td>\n",
       "      <td>137816400</td>\n",
       "      <td>0.250000</td>\n",
       "      <td>0.500000</td>\n",
       "      <td>0.000000</td>\n",
       "      <td>0.700000</td>\n",
       "    </tr>\n",
       "    <tr>\n",
       "      <th>1885</th>\n",
       "      <td>79.297501</td>\n",
       "      <td>79.754997</td>\n",
       "      <td>79.000000</td>\n",
       "      <td>79.142502</td>\n",
       "      <td>77.103172</td>\n",
       "      <td>110843200</td>\n",
       "      <td>0.200000</td>\n",
       "      <td>0.200000</td>\n",
       "      <td>0.238095</td>\n",
       "      <td>0.523810</td>\n",
       "    </tr>\n",
       "    <tr>\n",
       "      <th>1886</th>\n",
       "      <td>79.644997</td>\n",
       "      <td>79.997498</td>\n",
       "      <td>79.327499</td>\n",
       "      <td>79.425003</td>\n",
       "      <td>77.378380</td>\n",
       "      <td>101832400</td>\n",
       "      <td>0.200000</td>\n",
       "      <td>0.333333</td>\n",
       "      <td>0.066667</td>\n",
       "      <td>0.666667</td>\n",
       "    </tr>\n",
       "    <tr>\n",
       "      <th>1887</th>\n",
       "      <td>79.480003</td>\n",
       "      <td>79.889999</td>\n",
       "      <td>78.912498</td>\n",
       "      <td>79.807503</td>\n",
       "      <td>77.751030</td>\n",
       "      <td>104472000</td>\n",
       "      <td>0.076923</td>\n",
       "      <td>0.461538</td>\n",
       "      <td>0.000000</td>\n",
       "      <td>0.909091</td>\n",
       "    </tr>\n",
       "    <tr>\n",
       "      <th>1888</th>\n",
       "      <td>80.062500</td>\n",
       "      <td>80.832497</td>\n",
       "      <td>79.379997</td>\n",
       "      <td>79.577499</td>\n",
       "      <td>77.526955</td>\n",
       "      <td>146537600</td>\n",
       "      <td>0.166667</td>\n",
       "      <td>0.416667</td>\n",
       "      <td>0.000000</td>\n",
       "      <td>0.750000</td>\n",
       "    </tr>\n",
       "  </tbody>\n",
       "</table>\n",
       "</div>"
      ],
      "text/plain": [
       "           Open       High        Low      Close  Adj Close     Volume  \\\n",
       "1884  79.067497  79.684998  78.750000  79.682503  77.629234  137816400   \n",
       "1885  79.297501  79.754997  79.000000  79.142502  77.103172  110843200   \n",
       "1886  79.644997  79.997498  79.327499  79.425003  77.378380  101832400   \n",
       "1887  79.480003  79.889999  78.912498  79.807503  77.751030  104472000   \n",
       "1888  80.062500  80.832497  79.379997  79.577499  77.526955  146537600   \n",
       "\n",
       "      P_news_neg  P_news_pos  P_op_neg  P_op_pos  \n",
       "1884    0.250000    0.500000  0.000000  0.700000  \n",
       "1885    0.200000    0.200000  0.238095  0.523810  \n",
       "1886    0.200000    0.333333  0.066667  0.666667  \n",
       "1887    0.076923    0.461538  0.000000  0.909091  \n",
       "1888    0.166667    0.416667  0.000000  0.750000  "
      ]
     },
     "execution_count": 87,
     "metadata": {},
     "output_type": "execute_result"
    }
   ],
   "source": [
    "# 选择特征和目标\n",
    "# 保留原本的index，将'Date'列单独提取出来保存\n",
    "date = daily_data_merged['Date']\n",
    "date = pd.to_datetime(date)\n",
    "\n",
    "features = daily_data_merged.drop(['Date'], axis=1)\n",
    "# Open作为预测目标\n",
    "target = daily_data_merged['Open']\n",
    "features.tail()"
   ]
  },
  {
   "cell_type": "code",
   "execution_count": 88,
   "metadata": {},
   "outputs": [
    {
     "data": {
      "text/html": [
       "<div>\n",
       "<style scoped>\n",
       "    .dataframe tbody tr th:only-of-type {\n",
       "        vertical-align: middle;\n",
       "    }\n",
       "\n",
       "    .dataframe tbody tr th {\n",
       "        vertical-align: top;\n",
       "    }\n",
       "\n",
       "    .dataframe thead th {\n",
       "        text-align: right;\n",
       "    }\n",
       "</style>\n",
       "<table border=\"1\" class=\"dataframe\">\n",
       "  <thead>\n",
       "    <tr style=\"text-align: right;\">\n",
       "      <th></th>\n",
       "      <th>Open</th>\n",
       "      <th>High</th>\n",
       "      <th>Low</th>\n",
       "      <th>Close</th>\n",
       "      <th>Adj Close</th>\n",
       "      <th>Volume</th>\n",
       "      <th>P_news_neg</th>\n",
       "      <th>P_news_pos</th>\n",
       "      <th>P_op_neg</th>\n",
       "      <th>P_op_pos</th>\n",
       "    </tr>\n",
       "  </thead>\n",
       "  <tbody>\n",
       "    <tr>\n",
       "      <th>0</th>\n",
       "      <td>21.228571</td>\n",
       "      <td>21.639286</td>\n",
       "      <td>20.989643</td>\n",
       "      <td>21.565357</td>\n",
       "      <td>18.280512</td>\n",
       "      <td>487975600</td>\n",
       "      <td>0.0</td>\n",
       "      <td>0.0</td>\n",
       "      <td>0.333333</td>\n",
       "      <td>0.333333</td>\n",
       "    </tr>\n",
       "    <tr>\n",
       "      <th>1</th>\n",
       "      <td>21.692142</td>\n",
       "      <td>21.774286</td>\n",
       "      <td>21.375357</td>\n",
       "      <td>21.461430</td>\n",
       "      <td>18.192419</td>\n",
       "      <td>565132400</td>\n",
       "      <td>0.0</td>\n",
       "      <td>0.0</td>\n",
       "      <td>0.000000</td>\n",
       "      <td>0.000000</td>\n",
       "    </tr>\n",
       "    <tr>\n",
       "      <th>2</th>\n",
       "      <td>20.516430</td>\n",
       "      <td>20.742857</td>\n",
       "      <td>20.357143</td>\n",
       "      <td>20.534643</td>\n",
       "      <td>17.406801</td>\n",
       "      <td>877312800</td>\n",
       "      <td>0.0</td>\n",
       "      <td>0.0</td>\n",
       "      <td>0.000000</td>\n",
       "      <td>0.000000</td>\n",
       "    </tr>\n",
       "    <tr>\n",
       "      <th>3</th>\n",
       "      <td>20.705713</td>\n",
       "      <td>20.728571</td>\n",
       "      <td>20.370001</td>\n",
       "      <td>20.531429</td>\n",
       "      <td>17.404078</td>\n",
       "      <td>406632800</td>\n",
       "      <td>0.0</td>\n",
       "      <td>0.0</td>\n",
       "      <td>0.000000</td>\n",
       "      <td>0.000000</td>\n",
       "    </tr>\n",
       "    <tr>\n",
       "      <th>4</th>\n",
       "      <td>20.536072</td>\n",
       "      <td>20.922501</td>\n",
       "      <td>20.413929</td>\n",
       "      <td>20.898571</td>\n",
       "      <td>17.715296</td>\n",
       "      <td>403936400</td>\n",
       "      <td>0.0</td>\n",
       "      <td>0.0</td>\n",
       "      <td>1.000000</td>\n",
       "      <td>0.000000</td>\n",
       "    </tr>\n",
       "  </tbody>\n",
       "</table>\n",
       "</div>"
      ],
      "text/plain": [
       "        Open       High        Low      Close  Adj Close     Volume  \\\n",
       "0  21.228571  21.639286  20.989643  21.565357  18.280512  487975600   \n",
       "1  21.692142  21.774286  21.375357  21.461430  18.192419  565132400   \n",
       "2  20.516430  20.742857  20.357143  20.534643  17.406801  877312800   \n",
       "3  20.705713  20.728571  20.370001  20.531429  17.404078  406632800   \n",
       "4  20.536072  20.922501  20.413929  20.898571  17.715296  403936400   \n",
       "\n",
       "   P_news_neg  P_news_pos  P_op_neg  P_op_pos  \n",
       "0         0.0         0.0  0.333333  0.333333  \n",
       "1         0.0         0.0  0.000000  0.000000  \n",
       "2         0.0         0.0  0.000000  0.000000  \n",
       "3         0.0         0.0  0.000000  0.000000  \n",
       "4         0.0         0.0  1.000000  0.000000  "
      ]
     },
     "execution_count": 88,
     "metadata": {},
     "output_type": "execute_result"
    }
   ],
   "source": [
    "features.head()"
   ]
  },
  {
   "cell_type": "code",
   "execution_count": 89,
   "metadata": {},
   "outputs": [
    {
     "data": {
      "text/plain": [
       "1884    79.067497\n",
       "1885    79.297501\n",
       "1886    79.644997\n",
       "1887    79.480003\n",
       "1888    80.062500\n",
       "Name: Open, dtype: float64"
      ]
     },
     "execution_count": 89,
     "metadata": {},
     "output_type": "execute_result"
    }
   ],
   "source": [
    "target.tail()"
   ]
  },
  {
   "cell_type": "code",
   "execution_count": 90,
   "metadata": {},
   "outputs": [],
   "source": [
    "# normalization\n",
    "from sklearn.preprocessing import MinMaxScaler\n",
    "\n",
    "# Apply the MinMaxScaler to the features and target\n",
    "scaler_features = MinMaxScaler()\n",
    "scaler_target = MinMaxScaler()\n",
    "\n",
    "# fit_transform根据数据计算缩放参数\n",
    "scaled_features = scaler_features.fit_transform(features)\n",
    "scaled_target = scaler_target.fit_transform(target.values.reshape(-1, 1))\n",
    "\n",
    "# 保存缩放参数\n",
    "import joblib\n",
    "joblib.dump(scaler_features, './model/scaler_features.pkl')\n",
    "joblib.dump(scaler_target, './model/scaler_target.pkl')\n",
    "\n",
    "# Create new DataFrames with the scaled features and target\n",
    "scaled_features_df = pd.DataFrame(scaled_features, columns=features.columns)\n",
    "scaled_target_df = pd.DataFrame(scaled_target, columns=['Open'])"
   ]
  },
  {
   "cell_type": "code",
   "execution_count": 91,
   "metadata": {},
   "outputs": [
    {
     "data": {
      "text/plain": [
       "(1889, 10)"
      ]
     },
     "execution_count": 91,
     "metadata": {},
     "output_type": "execute_result"
    }
   ],
   "source": [
    "scaled_features.shape"
   ]
  },
  {
   "cell_type": "code",
   "execution_count": 92,
   "metadata": {},
   "outputs": [
    {
     "data": {
      "text/plain": [
       "(1889, 1)"
      ]
     },
     "execution_count": 92,
     "metadata": {},
     "output_type": "execute_result"
    }
   ],
   "source": [
    "scaled_target.shape"
   ]
  },
  {
   "cell_type": "code",
   "execution_count": 93,
   "metadata": {},
   "outputs": [],
   "source": [
    "import numpy as np\n",
    "import pandas as pd\n",
    "import matplotlib.pyplot as plt\n",
    "import torch\n",
    "import torch.nn as nn\n",
    "import torch.optim as optim\n",
    "from torch.utils.data import DataLoader, TensorDataset\n",
    "from sklearn.model_selection import train_test_split\n",
    "from sklearn.preprocessing import MinMaxScaler\n",
    "from sklearn.metrics import mean_squared_error\n",
    "import matplotlib.dates as mdates"
   ]
  },
  {
   "cell_type": "code",
   "execution_count": 94,
   "metadata": {},
   "outputs": [],
   "source": [
    "def create_sequences(features, targets, seq_length):\n",
    "    \"\"\"\n",
    "    Create sequences of specified length from time series data.\n",
    "\n",
    "    Args:\n",
    "    features (np.array): The feature data.\n",
    "    targets (np.array): The target data.\n",
    "    seq_length (int): The length of the sequence.\n",
    "\n",
    "    Returns:\n",
    "    np.array: Sequences of features.\n",
    "    np.array: Corresponding targets for each sequence.\n",
    "    \"\"\"\n",
    "    xs, ys = [], []\n",
    "    for i in range(len(features) - seq_length):\n",
    "        x = features[i:(i + seq_length)]\n",
    "        y = targets[i + seq_length]\n",
    "        xs.append(x)\n",
    "        ys.append(y)\n",
    "    return np.array(xs), np.array(ys)"
   ]
  },
  {
   "cell_type": "code",
   "execution_count": 95,
   "metadata": {},
   "outputs": [],
   "source": [
    "# sequence length\n",
    "seq_length = 25\n",
    "\n",
    "# Create sequences\n",
    "features_seq, target_seq = create_sequences(scaled_features, scaled_target, seq_length)\n"
   ]
  },
  {
   "cell_type": "code",
   "execution_count": 96,
   "metadata": {},
   "outputs": [],
   "source": [
    "train_features, test_features, train_target, test_target = train_test_split(\n",
    "    features_seq, target_seq, test_size=0.2, random_state=42\n",
    ")\n",
    "\n",
    "val_features, test_features, val_target, test_target = train_test_split(\n",
    "    test_features, test_target, test_size=0.5, random_state=42\n",
    ")"
   ]
  },
  {
   "cell_type": "markdown",
   "metadata": {},
   "source": [
    "- 准备训练"
   ]
  },
  {
   "cell_type": "code",
   "execution_count": 97,
   "metadata": {},
   "outputs": [],
   "source": [
    "# Convert sequences to Tensor\n",
    "train_features = torch.tensor(train_features, dtype=torch.float32)\n",
    "train_target = torch.tensor(train_target, dtype=torch.float32)\n",
    "\n",
    "val_features = torch.tensor(val_features, dtype=torch.float32)\n",
    "val_target = torch.tensor(val_target, dtype=torch.float32)\n",
    "\n",
    "test_features = torch.tensor(test_features, dtype=torch.float32)\n",
    "test_target = torch.tensor(test_target, dtype=torch.float32)\n",
    "\n",
    "# 创建TensorDataset\n",
    "train_dataset = TensorDataset(train_features, train_target)\n",
    "val_dataset = TensorDataset(val_features, val_target)\n",
    "test_dataset = TensorDataset(test_features, test_target)\n",
    "\n",
    "# DataLoader\n",
    "train_loader = DataLoader(train_dataset, batch_size=32, shuffle=True)\n",
    "val_loader = DataLoader(val_dataset, batch_size=32, shuffle=False)\n",
    "test_loader = DataLoader(test_dataset, batch_size=32, shuffle=False)"
   ]
  },
  {
   "cell_type": "code",
   "execution_count": 98,
   "metadata": {},
   "outputs": [],
   "source": [
    "# 使用普通的LSTM模型，不使用注意力机制\n",
    "class SimpleLSTM(nn.Module):\n",
    "    def __init__(self, input_dim, hidden_size, num_layers, output_dim, dropout=0.2):\n",
    "        super(SimpleLSTM, self).__init__()\n",
    "        self.hidden_size = hidden_size\n",
    "\n",
    "        # LSTM层\n",
    "        self.lstm = nn.LSTM(input_dim, hidden_size, num_layers, \n",
    "                            batch_first=True, dropout=dropout if num_layers > 1 else 0)\n",
    "        \n",
    "        # 全连接层\n",
    "        self.fc = nn.Linear(hidden_size, output_dim)\n",
    "\n",
    "    def forward(self, x):\n",
    "        lstm_out, _ = self.lstm(x)\n",
    "        # 打印lstm_out的形状\n",
    "        # print(lstm_out.shape)\n",
    "        # 取最后一个时间步的输出\n",
    "        output = self.fc(lstm_out[:, -1, :])\n",
    "        return output"
   ]
  },
  {
   "cell_type": "code",
   "execution_count": 99,
   "metadata": {},
   "outputs": [],
   "source": [
    "# # 使用注意力机制的LSTM\n",
    "# class Attention(nn.Module):\n",
    "#     def __init__(self, hidden_size):\n",
    "#         super(Attention, self).__init__()\n",
    "#         self.hidden_size = hidden_size\n",
    "#         self.attn = nn.Linear(self.hidden_size, 1)\n",
    "\n",
    "#     def forward(self, hidden, encoder_outputs):\n",
    "#         attn_weights = torch.tanh(self.attn(encoder_outputs))\n",
    "#         return torch.bmm(attn_weights.transpose(1, 2), encoder_outputs).squeeze(1)\n",
    "\n",
    "# class AttentionLSTM(nn.Module):\n",
    "#     def __init__(self, input_dim, hidden_size, num_layers, output_dim, dropout=0.2):\n",
    "#         super(AttentionLSTM, self).__init__()\n",
    "#         self.hidden_size = hidden_size\n",
    "\n",
    "#         # LSTM层\n",
    "#         self.lstm = nn.LSTM(input_dim, hidden_size, num_layers, \n",
    "#                             batch_first=True, dropout=dropout if num_layers > 1 else 0)\n",
    "        \n",
    "#         # 注意力层\n",
    "#         self.attention = Attention(hidden_size)\n",
    "        \n",
    "#         # 全连接层\n",
    "#         self.fc = nn.Linear(hidden_size, output_dim)\n",
    "\n",
    "#     def forward(self, x):\n",
    "#         lstm_out, _ = self.lstm(x)\n",
    "#         attn_out = self.attention(lstm_out[:, -1, :], lstm_out)\n",
    "#         output = self.fc(attn_out)\n",
    "#         return output"
   ]
  },
  {
   "cell_type": "code",
   "execution_count": 100,
   "metadata": {},
   "outputs": [],
   "source": [
    "# 超参数\n",
    "input_dim = scaled_features_df.shape[1]  # 特征数量\n",
    "hidden_size = 100  # 隐藏状态中的特征数量，可以调整\n",
    "num_layers = 4    # 堆叠的LSTM层的数量\n",
    "output_dim = 1    # 输出维度的数量（预测一个值）\n",
    "\n",
    "# 使用SimpleLSTM\n",
    "model = SimpleLSTM(input_dim, hidden_size, num_layers, output_dim, dropout=0.2)\n",
    "# 使用AttentionLSTM\n",
    "# model = AttentionLSTM(input_dim, hidden_size, num_layers, output_dim, dropout=0.2)\n",
    "\n",
    "# 定义损失函数和优化器\n",
    "criterion = nn.MSELoss()\n",
    "optimizer = optim.Adam(model.parameters(), lr=0.001)"
   ]
  },
  {
   "cell_type": "code",
   "execution_count": 101,
   "metadata": {},
   "outputs": [
    {
     "name": "stdout",
     "output_type": "stream",
     "text": [
      "best_model updated at epoch 1, best_val_loss : 0.0027\n",
      "Epoch 1/50, Train Loss: 0.0257, Validation Loss: 0.0027\n",
      "best_model updated at epoch 2, best_val_loss : 0.0004\n",
      "best_model updated at epoch 3, best_val_loss : 0.0003\n",
      "Epoch 6/50, Train Loss: 0.0005, Validation Loss: 0.0005\n",
      "best_model updated at epoch 9, best_val_loss : 0.0003\n",
      "best_model updated at epoch 10, best_val_loss : 0.0002\n",
      "Epoch 11/50, Train Loss: 0.0005, Validation Loss: 0.0002\n",
      "best_model updated at epoch 14, best_val_loss : 0.0002\n",
      "Epoch 16/50, Train Loss: 0.0004, Validation Loss: 0.0003\n",
      "best_model updated at epoch 21, best_val_loss : 0.0002\n",
      "Epoch 21/50, Train Loss: 0.0005, Validation Loss: 0.0002\n",
      "best_model updated at epoch 22, best_val_loss : 0.0002\n",
      "Epoch 26/50, Train Loss: 0.0003, Validation Loss: 0.0002\n",
      "best_model updated at epoch 28, best_val_loss : 0.0001\n",
      "Epoch 31/50, Train Loss: 0.0003, Validation Loss: 0.0002\n",
      "Epoch 36/50, Train Loss: 0.0003, Validation Loss: 0.0002\n",
      "best_model updated at epoch 38, best_val_loss : 0.0001\n",
      "Epoch 41/50, Train Loss: 0.0003, Validation Loss: 0.0001\n",
      "Epoch 46/50, Train Loss: 0.0003, Validation Loss: 0.0003\n"
     ]
    },
    {
     "data": {
      "image/png": "[encoded data removed]",
      "text/plain": [
       "<Figure size 1000x600 with 1 Axes>"
      ]
     },
     "metadata": {},
     "output_type": "display_data"
    }
   ],
   "source": [
    "# 训练模型\n",
    "num_epochs = 50\n",
    "best_val_loss = float('inf')\n",
    "train_loss_list = []\n",
    "val_loss_list = []\n",
    "for epoch in range(num_epochs):\n",
    "    model.train()\n",
    "    train_losses = []\n",
    "    for inputs, targets in train_loader:\n",
    "        optimizer.zero_grad()\n",
    "        outputs = model(inputs)\n",
    "        loss = criterion(outputs, targets)\n",
    "        loss.backward()\n",
    "        optimizer.step()\n",
    "        train_losses.append(loss.item())\n",
    "\n",
    "    model.eval()\n",
    "    val_losses = []\n",
    "    with torch.no_grad():\n",
    "        for inputs, targets in val_loader:\n",
    "            outputs = model(inputs)\n",
    "            loss = criterion(outputs, targets)\n",
    "            val_losses.append(loss.item())\n",
    "\n",
    "    train_loss = np.mean(train_losses)\n",
    "    val_loss = np.mean(val_losses)\n",
    "\n",
    "    # 保存最佳模型\n",
    "    if val_loss < best_val_loss:\n",
    "        best_val_loss = val_loss\n",
    "        torch.save(model.state_dict(), './model/best_model.pth')\n",
    "        print('best_model updated at epoch {}, best_val_loss : {:.4f}'.format(epoch+1, best_val_loss))\n",
    "        \n",
    "    # 每5轮打印一次train loss和val loss\n",
    "    if epoch % 5 == 0:\n",
    "        print(f'Epoch {epoch+1}/{num_epochs}, Train Loss: {train_loss:.4f}, Validation Loss: {val_loss:.4f}')\n",
    "\n",
    "    # 记录两个loss\n",
    "    train_loss_list.append(train_loss)\n",
    "    val_loss_list.append(val_loss)\n",
    "    \n",
    "# 在所有epochs结束后绘制损失图\n",
    "plt.figure(figsize=(10, 6))\n",
    "plt.plot(range(num_epochs), train_loss_list, label='Train Loss', color='blue')\n",
    "plt.plot(range(num_epochs), val_loss_list, label='Validation Loss', color='red')\n",
    "plt.title('Train Loss and Validation Loss')\n",
    "plt.xlabel('Epoch')\n",
    "plt.ylabel('Loss')\n",
    "plt.legend()\n",
    "plt.show()\n"
   ]
  },
  {
   "cell_type": "code",
   "execution_count": 102,
   "metadata": {},
   "outputs": [
    {
     "name": "stdout",
     "output_type": "stream",
     "text": [
      "The date range of the new test set is from 2019-09-12 00:00:00 to 2020-01-24 00:00:00\n",
      "The length is 93\n"
     ]
    },
    {
     "data": {
      "image/png": "[encoded data removed]",
      "text/plain": [
       "<Figure size 1000x600 with 1 Axes>"
      ]
     },
     "metadata": {},
     "output_type": "display_data"
    }
   ],
   "source": [
    "# 加载最佳模型\n",
    "model.load_state_dict(torch.load('./model/best_model.pth'))\n",
    "\n",
    "# 计算新的测试集的大小\n",
    "test_size_new = int(len(features_seq) * 0.05)\n",
    "\n",
    "# 按时间顺序划分新的测试集\n",
    "test_features_new, test_target_new = features_seq[-test_size_new:], target_seq[-test_size_new:]\n",
    "\n",
    "# 使用模型进行预测\n",
    "model.eval()\n",
    "with torch.no_grad():\n",
    "    test_predictions_new = model(torch.tensor(test_features_new, dtype=torch.float32)).numpy()\n",
    "\n",
    "# 反缩放预测值\n",
    "test_predictions_new = scaler_target.inverse_transform(test_predictions_new).flatten()\n",
    "\n",
    "# 反缩放真实目标值\n",
    "test_target_new = scaler_target.inverse_transform(test_target_new.reshape(-1, 1)).flatten()\n",
    "\n",
    "# 计算日期的总长度\n",
    "total_length = len(date)\n",
    "\n",
    "# 计算测试集的开始位置\n",
    "test_start = total_length - test_size_new\n",
    "\n",
    "# 计算新的测试集的结束位置\n",
    "test_end = total_length\n",
    "\n",
    "# 获取新的测试集的日期范围\n",
    "test_date_new = date[test_start:test_end]\n",
    "\n",
    "# Print the date range of the new test set\n",
    "print(\"The date range of the new test set is from\", test_date_new.iloc[0], \"to\", test_date_new.iloc[-1])\n",
    "\n",
    "# Print the length of the new test set\n",
    "print(\"The length is\", len(test_target_new))\n",
    "\n",
    "# 绘制实际股价和预测股价的对比图\n",
    "plt.figure(figsize=(10, 6))\n",
    "plt.plot(date[test_start:], test_target_new, label='Actual Prices', color='blue')\n",
    "plt.plot(date[test_start:], test_predictions_new, label='Predicted Prices', color='red')\n",
    "\n",
    "# 设置x轴的日期格式\n",
    "plt.gca().xaxis.set_major_formatter(mdates.DateFormatter('%Y-%m-%d'))\n",
    "plt.gca().xaxis.set_major_locator(mdates.DayLocator(interval=10))  # 设置日期间隔\n",
    "\n",
    "plt.title('Predicted vs Actual Prices')\n",
    "plt.xlabel('Date')\n",
    "plt.ylabel('Price')\n",
    "plt.legend()\n",
    "plt.gcf().autofmt_xdate()  # 自动调整x轴日期标签的角度以提高可读性\n",
    "plt.show()"
   ]
  },
  {
   "cell_type": "code",
   "execution_count": 103,
   "metadata": {},
   "outputs": [
    {
     "name": "stdout",
     "output_type": "stream",
     "text": [
      "Test MSE:  0.5839479675590462\n",
      "Test RMSE:  0.7641648824429491\n"
     ]
    }
   ],
   "source": [
    "from sklearn.metrics import mean_squared_error\n",
    "\n",
    "# 计算MSE\n",
    "mse = mean_squared_error(test_target_new, test_predictions_new)\n",
    "print('Test MSE: ', mse)\n",
    "# 计算RMSE\n",
    "rmse = np.sqrt(mse)\n",
    "print('Test RMSE: ', rmse)"
   ]
  },
  {
   "cell_type": "markdown",
   "metadata": {},
   "source": [
    "- 50个epoch RMSE测试"
   ]
  },
  {
   "cell_type": "code",
   "execution_count": null,
   "metadata": {},
   "outputs": [],
   "source": [
    "import pandas as pd\n",
    "\n",
    "# 创建一个数据框来显示序列长度和对应的RMSE\n",
    "seq_rmse_df = pd.DataFrame({\n",
    "    'Seq_length': [10, 15, 20, 25, 30, 35, 40, 45, 50],\n",
    "    'RMSE': [1.1130488933158105, 0.8456300018583505, 0.8641183126757913, 0.8094936259619585, 0.9580832258849209, 0.8409732222581049, 0.9262937021912081, 1.1064503987204368, 0.9005207820679706]\n",
    "})\n",
    "\n",
    "# 将RMSE保留两位小数\n",
    "seq_rmse_df['RMSE'] = seq_rmse_df['RMSE'].round(3)\n",
    "seq_rmse_df = seq_rmse_df.reset_index(drop=True)\n",
    "\n",
    "import matplotlib.cm\n",
    "from plottable import ColumnDefinition, Table\n",
    "\n",
    "# 创建列定义\n",
    "seq_length_col_def = ColumnDefinition('Seq_length', title='sequence length')\n",
    "rmse_col_def = ColumnDefinition('RMSE', title='RMSE', cmap=matplotlib.cm.get_cmap('viridis'))\n",
    "\n",
    "# 创建表格\n",
    "table = Table(seq_rmse_df, column_definitions=[seq_length_col_def, rmse_col_def])"
   ]
  },
  {
   "cell_type": "code",
   "execution_count": null,
   "metadata": {},
   "outputs": [],
   "source": [
    "seq_lengths = [10, 15, 20, 25, 30, 35, 40, 45, 50]\n",
    "rmse_results = [1.1130488933158105, 0.8456300018583505, 0.8641183126757913, 0.8094936259619585, 0.9580832258849209, 0.8409732222581049, 0.9262937021912081, 1.1064503987204368, 0.9005207820679706]\n",
    "\n",
    "# 绘制RMSE结果图\n",
    "plt.figure(figsize=(10, 6))\n",
    "plt.plot(seq_lengths, rmse_results, label='RMSE Results', color='blue')\n",
    "\n",
    "# 标出最小RMSE点\n",
    "min_rmse_index = np.argmin(rmse_results)\n",
    "plt.plot(seq_lengths[min_rmse_index], rmse_results[min_rmse_index], 'ro')\n",
    "plt.text(seq_lengths[min_rmse_index], rmse_results[min_rmse_index], f'Min RMSE: {rmse_results[min_rmse_index]:.3f}', fontsize=12, ha='right')\n",
    "\n",
    "plt.title('RMSE Results for Different Sequence Lengths')\n",
    "plt.xlabel('Sequence Length')\n",
    "plt.ylabel('RMSE')\n",
    "plt.legend()\n",
    "plt.show()\n"
   ]
  },
  {
   "cell_type": "code",
   "execution_count": null,
   "metadata": {},
   "outputs": [],
   "source": [
    "import torch\n",
    "print(torch.__version__)"
   ]
  },
  {
   "cell_type": "code",
   "execution_count": null,
   "metadata": {},
   "outputs": [],
   "source": [
    "data = {\n",
    "    'Method': ['Historical transaction information', 'FinBERT mixed', 'VADER mixed'],\n",
    "    'RMSE': [0.9793, 0.7341, 0.8601]\n",
    "}\n",
    "df = pd.DataFrame(data)\n",
    "\n",
    "# 设置表格样式\n",
    "sns.set_theme(style=\"whitegrid\")\n",
    "\n",
    "# 创建一个新的figure\n",
    "plt.figure(figsize=(10, 6))\n",
    "\n",
    "# 使用seaborn的barplot函数绘制条形图\n",
    "sns.barplot(x='Method', y='RMSE', data=df, palette='viridis')\n",
    "\n",
    "# 设置标题和坐标轴标签\n",
    "plt.title('RMSE Results for Different Methods')\n",
    "plt.xlabel('Method')\n",
    "plt.ylabel('RMSE')\n",
    "\n",
    "# 显示图形\n",
    "plt.show()"
   ]
  }
 ],
 "metadata": {
  "kernelspec": {
   "display_name": "base",
   "language": "python",
   "name": "python3"
  },
  "language_info": {
   "codemirror_mode": {
    "name": "ipython",
    "version": 3
   },
   "file_extension": ".py",
   "mimetype": "text/x-python",
   "name": "python",
   "nbconvert_exporter": "python",
   "pygments_lexer": "ipython3",
   "version": "3.10.8"
  }
 },
 "nbformat": 4,
 "nbformat_minor": 2
}
